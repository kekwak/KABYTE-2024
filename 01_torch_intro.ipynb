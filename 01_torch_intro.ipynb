{
  "cells": [
    {
      "cell_type": "markdown",
      "metadata": {
        "id": "fuPGRolGOj45"
      },
      "source": [
        "# Imports"
      ]
    },
    {
      "cell_type": "code",
      "execution_count": 1,
      "metadata": {
        "id": "20jTjC4zOj46"
      },
      "outputs": [],
      "source": [
        "import numpy as np\n",
        "from PIL import Image\n",
        "import torch\n",
        "from torch import nn\n",
        "from torch import optim\n",
        "from torch.utils.data import Dataset, DataLoader, random_split\n",
        "from torchvision.datasets import MNIST, ImageFolder\n",
        "from torchvision import transforms\n",
        "\n",
        "from sklearn.datasets import make_regression\n",
        "from sklearn.metrics import (\n",
        "    classification_report, accuracy_score,\n",
        "    f1_score, confusion_matrix,\n",
        ")\n",
        "\n",
        "from torchsummary import summary\n",
        "\n",
        "import seaborn as sns\n",
        "from matplotlib import pyplot as plt\n",
        "\n",
        "import os"
      ]
    },
    {
      "cell_type": "markdown",
      "metadata": {},
      "source": [
        "# <p align='center' style='color: #6c89c6;'>Работу выполнил: Таратин Артём ПМ22-1</p>"
      ]
    },
    {
      "cell_type": "markdown",
      "metadata": {
        "id": "1pK7OVu8Oj48"
      },
      "source": [
        "# Манипуляции с тензорами"
      ]
    },
    {
      "cell_type": "markdown",
      "metadata": {
        "id": "C1y_wshpOj48"
      },
      "source": [
        "## Создание тензоров <a class=\"anchor\" id=\"создание-тензоров\"></a>"
      ]
    },
    {
      "cell_type": "code",
      "execution_count": null,
      "metadata": {
        "id": "W5HcQvlgOj48",
        "outputId": "e55e6f88-6a26-4841-d64a-a6b629cb84fc"
      },
      "outputs": [
        {
          "name": "stdout",
          "output_type": "stream",
          "text": [
            "tensor([-4.5114e-16])\n",
            "tensor([3.5733e-43, 0.0000e+00, 0.0000e+00])\n",
            "tensor([[0., 0., 0.],\n",
            "        [0., 0., 0.]])\n",
            "tensor([[[0., 0., 0.],\n",
            "         [0., 0., 0.]],\n",
            "\n",
            "        [[0., 0., 0.],\n",
            "         [0., 0., 0.]]])\n",
            "tensor([[[[0., 0., 0.],\n",
            "          [0., 0., 0.]],\n",
            "\n",
            "         [[0., 0., 0.],\n",
            "          [0., 0., 0.]]],\n",
            "\n",
            "\n",
            "        [[[0., 0., 0.],\n",
            "          [0., 0., 0.]],\n",
            "\n",
            "         [[0., 0., 0.],\n",
            "          [0., 0., 0.]]]])\n"
          ]
        }
      ],
      "source": [
        "# В pytorch все основано на операциях с тензорами\n",
        "# Тензоры могут иметь:\n",
        "# 0 измерений - скаляры\n",
        "# 1 измерение - векторы\n",
        "# 2 измерения - матрицы\n",
        "# 3, 4, ... измерения - тензоры\n",
        "\n",
        "# Создание не инициализизированного тензора: torch.empty(size)\n",
        "# Нужно помнить, что перед использованием такого тензора его обязательно нужно инициализировать!\n",
        "\n",
        "x = torch.empty(1)  # scalar\n",
        "print(x)\n",
        "x = torch.empty(3)  # vector, 1D\n",
        "print(x)\n",
        "x = torch.empty(2, 3)  # matrix, 2D\n",
        "print(x)\n",
        "x = torch.empty(2, 2, 3)  # tensor, 3 dimensions\n",
        "print(x)\n",
        "x = torch.empty(2, 2, 2, 3)  # tensor, 4 dimensions\n",
        "print(x)"
      ]
    },
    {
      "cell_type": "code",
      "execution_count": null,
      "metadata": {
        "id": "6nJ66i3_Oj49",
        "outputId": "010be0e7-c23a-462a-f52f-296e03f9436e"
      },
      "outputs": [
        {
          "name": "stdout",
          "output_type": "stream",
          "text": [
            "[[[5.92464730e-312 2.47032823e-322 0.00000000e+000]\n",
            "  [0.00000000e+000 6.95208261e-310 1.33664410e+160]]\n",
            "\n",
            " [[5.33720646e-091 1.51924684e-047 2.81298770e-033]\n",
            "  [1.80201686e+185 3.99910963e+252 3.43974750e+175]]]\n"
          ]
        }
      ],
      "source": [
        "# Большинство операций с тензорами очень похожа на опреации с массивами NumPy, но часть имеют небольшие отличия:\n",
        "x_np = np.empty((2, 2, 3))\n",
        "print(x_np)\n",
        "# x_np = np.empty(2,2,3) # Ошибка!"
      ]
    },
    {
      "cell_type": "code",
      "execution_count": null,
      "metadata": {
        "id": "aKgn0IYjOj4-",
        "outputId": "0c8d049e-9f59-4e49-d5a4-6cae46d86d80"
      },
      "outputs": [
        {
          "data": {
            "text/plain": [
              "tensor([[0.9460, 0.7882, 0.0923],\n",
              "        [0.4902, 0.2125, 0.7410],\n",
              "        [0.6332, 0.2464, 0.7472],\n",
              "        [0.3681, 0.4406, 0.1339],\n",
              "        [0.6238, 0.2333, 0.7509]])"
            ]
          },
          "execution_count": 19,
          "metadata": {},
          "output_type": "execute_result"
        }
      ],
      "source": [
        "# Создание тензора, заполненного случайными значениями (равномерно распредленными в [0, 1]): torch.rand(size)\n",
        "x = torch.rand(5, 3)\n",
        "x"
      ]
    },
    {
      "cell_type": "code",
      "execution_count": null,
      "metadata": {
        "id": "Uuby9ZJtOj4_",
        "outputId": "5fc3636c-b0a8-429d-c313-85645d3edeeb"
      },
      "outputs": [
        {
          "name": "stdout",
          "output_type": "stream",
          "text": [
            "tensor([[0., 0., 0.],\n",
            "        [0., 0., 0.],\n",
            "        [0., 0., 0.],\n",
            "        [0., 0., 0.],\n",
            "        [0., 0., 0.]])\n",
            "tensor([[1., 1., 1.],\n",
            "        [1., 1., 1.],\n",
            "        [1., 1., 1.],\n",
            "        [1., 1., 1.],\n",
            "        [1., 1., 1.]])\n",
            "tensor([[1., 0., 0.],\n",
            "        [0., 1., 0.],\n",
            "        [0., 0., 1.],\n",
            "        [0., 0., 0.],\n",
            "        [0., 0., 0.]])\n"
          ]
        }
      ],
      "source": [
        "# Создание тензоров заполненных:\n",
        "# нулями:\n",
        "x = torch.zeros(5, 3)\n",
        "print(x)\n",
        "# единицами:\n",
        "x = torch.ones(5, 3)\n",
        "print(x)\n",
        "# тензор c единицами на главной диагонали:\n",
        "x = torch.eye(5, 3)\n",
        "print(x)"
      ]
    },
    {
      "cell_type": "code",
      "execution_count": null,
      "metadata": {
        "id": "3Ys1LSsCOj4_",
        "outputId": "1e06071f-6393-4d5d-e044-1a23581a7c40"
      },
      "outputs": [
        {
          "data": {
            "text/plain": [
              "torch.Size([5, 3])"
            ]
          },
          "execution_count": 21,
          "metadata": {},
          "output_type": "execute_result"
        }
      ],
      "source": [
        "# определение размера тензора:\n",
        "x.size()"
      ]
    },
    {
      "cell_type": "code",
      "execution_count": null,
      "metadata": {
        "id": "PUwZppReOj5A",
        "outputId": "bafba451-c7a2-4ab5-a662-863f2ae4f0fc"
      },
      "outputs": [
        {
          "name": "stdout",
          "output_type": "stream",
          "text": [
            "torch.float32\n",
            "tensor([[0., 0., 0.],\n",
            "        [0., 0., 0.],\n",
            "        [0., 0., 0.],\n",
            "        [0., 0., 0.],\n",
            "        [0., 0., 0.]], dtype=torch.float16)\n"
          ]
        }
      ],
      "source": [
        "# для каждого тензора задан тип значений:\n",
        "print(x.dtype)  # тип заданный автоматически\n",
        "\n",
        "# явное указание типа:\n",
        "x = torch.zeros(5, 3, dtype=torch.float16)\n",
        "print(x)"
      ]
    },
    {
      "cell_type": "code",
      "execution_count": null,
      "metadata": {
        "id": "vDXWkku9Oj5A",
        "outputId": "5ba6d67a-ac48-4adf-fd11-0c11688b574f"
      },
      "outputs": [
        {
          "data": {
            "text/plain": [
              "tensor([[-4.5802e-16,  9.9492e-43,  0.0000e+00],\n",
              "        [ 0.0000e+00,  0.0000e+00,  0.0000e+00]])"
            ]
          },
          "execution_count": 23,
          "metadata": {},
          "output_type": "execute_result"
        }
      ],
      "source": [
        "x = torch.Tensor(2, 3)  # аналогично torch.empty\n",
        "x"
      ]
    },
    {
      "cell_type": "code",
      "execution_count": null,
      "metadata": {
        "id": "iqPdNGHfOj5A",
        "outputId": "d05a7254-2627-4f47-c4a2-4ae67cb0ac04"
      },
      "outputs": [
        {
          "data": {
            "text/plain": [
              "tensor([[0.6768, 0.5198, 0.6978],\n",
              "        [0.1581, 0.2027, 0.3723]])"
            ]
          },
          "execution_count": 24,
          "metadata": {},
          "output_type": "execute_result"
        }
      ],
      "source": [
        "# создание тензора из данных:\n",
        "x = torch.Tensor([[0.6768, 0.5198, 0.6978], [0.1581, 0.2027, 0.3723]])\n",
        "x"
      ]
    },
    {
      "cell_type": "code",
      "execution_count": null,
      "metadata": {
        "id": "LJa4d2WmOj5B",
        "outputId": "6776e8ca-f033-4bd8-f02e-6c383fe4a565"
      },
      "outputs": [
        {
          "name": "stdout",
          "output_type": "stream",
          "text": [
            "tensor([[ 6, 51,  6],\n",
            "        [15,  0, 37]]) <class 'torch.Tensor'> torch.int64\n",
            "tensor([[ 6., 51.,  6.],\n",
            "        [15.,  0., 37.]], dtype=torch.float64) <class 'torch.Tensor'> torch.float64\n"
          ]
        }
      ],
      "source": [
        "# создание тензора из данных:\n",
        "x = torch.tensor([[6, 51, 6], [15, 0, 37]])\n",
        "print(x, type(x), x.dtype)\n",
        "\n",
        "x = torch.tensor([[6, 51, 6], [15, 0, 37]], dtype=torch.float64)\n",
        "print(x, type(x), x.dtype)"
      ]
    },
    {
      "cell_type": "code",
      "execution_count": null,
      "metadata": {
        "id": "pP7ElS9zOj5B",
        "outputId": "7001c820-3289-4ff0-b37d-027946881d91"
      },
      "outputs": [
        {
          "data": {
            "text/plain": [
              "tensor([1, 2, 3], dtype=torch.int32)"
            ]
          },
          "execution_count": 26,
          "metadata": {},
          "output_type": "execute_result"
        }
      ],
      "source": [
        "# создание тензора из массива numpy:\n",
        "a = np.array([1, 2, 3])\n",
        "x = torch.from_numpy(a)\n",
        "x"
      ]
    },
    {
      "cell_type": "code",
      "execution_count": null,
      "metadata": {
        "id": "sgTFGZkNOj5B",
        "outputId": "4f35af0d-0e09-4d5d-c75b-1b623a88556d"
      },
      "outputs": [
        {
          "name": "stdout",
          "output_type": "stream",
          "text": [
            "[11  2  3]\n",
            "tensor([11,  2,  3], dtype=torch.int32)\n"
          ]
        }
      ],
      "source": [
        "# Carful: If the Tensor is on the CPU (not the GPU),\n",
        "# both objects will share the same memory location, so changing one\n",
        "# will also change the other\n",
        "\n",
        "a[0] += 10\n",
        "print(a)\n",
        "print(x)"
      ]
    },
    {
      "cell_type": "code",
      "execution_count": null,
      "metadata": {
        "id": "HCBkYOIUOj5B",
        "outputId": "fd49ee1e-4549-4c49-9cd9-f027df13bf92"
      },
      "outputs": [
        {
          "data": {
            "text/plain": [
              "array([11,  2,  3])"
            ]
          },
          "execution_count": 28,
          "metadata": {},
          "output_type": "execute_result"
        }
      ],
      "source": [
        "# torch to numpy with .numpy()\n",
        "# Специфика использования общего массива данных сохраняется!\n",
        "b = x.numpy()\n",
        "b"
      ]
    },
    {
      "cell_type": "code",
      "execution_count": null,
      "metadata": {
        "id": "yj5zeVk_Oj5B",
        "outputId": "6ff2a233-4937-4c9b-e8b9-24c090365678"
      },
      "outputs": [
        {
          "data": {
            "text/plain": [
              "tensor([[0.5000, 0.5000, 0.5000],\n",
              "        [0.5000, 0.5000, 0.5000]])"
            ]
          },
          "execution_count": 29,
          "metadata": {},
          "output_type": "execute_result"
        }
      ],
      "source": [
        "# заполнение тензора значениями:\n",
        "x = torch.Tensor(2, 3)\n",
        "x.fill_(0.5)  # функции, оканчивающиеся на _ меняют значение тензора inplace\n",
        "x"
      ]
    },
    {
      "cell_type": "markdown",
      "metadata": {
        "id": "bxMB2QzcOj5C"
      },
      "source": [
        "Справка по операциям создания тензоров тут: https://pytorch.org/docs/stable/torch.html#creation-ops"
      ]
    },
    {
      "cell_type": "markdown",
      "metadata": {
        "id": "ngvhcxonOj5C"
      },
      "source": [
        "### Арифметические операции и математические функции: <a class=\"anchor\" id=\"aрифметические\"></a>"
      ]
    },
    {
      "cell_type": "code",
      "execution_count": null,
      "metadata": {
        "id": "FrbXnvAYOj5C",
        "outputId": "ba234edd-4177-4d2f-9e00-8a41a6ea5001"
      },
      "outputs": [
        {
          "name": "stdout",
          "output_type": "stream",
          "text": [
            "x:\n",
            " tensor([[0.7082, 0.6959],\n",
            "        [0.2558, 0.9132]])\n",
            "\n",
            "y:\n",
            " tensor([[0.5740, 0.5481],\n",
            "        [0.0809, 0.9770]])\n",
            "\n",
            "z = x + y:\n",
            " tensor([[1.2823, 1.2440],\n",
            "        [0.3367, 1.8902]])\n",
            "\n",
            "z = torch.add(x,y):\n",
            " tensor([[1.2823, 1.2440],\n",
            "        [0.3367, 1.8902]])\n",
            "\n"
          ]
        }
      ],
      "source": [
        "x = torch.rand(2, 2)\n",
        "print(f\"x:\\n {x}\\n\")\n",
        "y = torch.rand(2, 2)\n",
        "print(f\"y:\\n {y}\\n\")\n",
        "\n",
        "# поэлементное сложение:\n",
        "z = x + y\n",
        "print(f\"z = x + y:\\n {z}\\n\")\n",
        "z = torch.add(x, y)\n",
        "print(f\"z = torch.add(x,y):\\n {z}\\n\")"
      ]
    },
    {
      "cell_type": "code",
      "execution_count": null,
      "metadata": {
        "id": "0sNDXVuQOj5C",
        "outputId": "8036d287-491f-4965-85dc-1f70b0dd01c2"
      },
      "outputs": [
        {
          "name": "stdout",
          "output_type": "stream",
          "text": [
            "y2:\n",
            " tensor([[0.5740, 0.5481],\n",
            "        [0.0809, 0.9770]])\n",
            "\n",
            "y2.add_(x) in place:\n",
            " tensor([[1.2823, 1.2440],\n",
            "        [0.3367, 1.8902]])\n",
            "\n"
          ]
        }
      ],
      "source": [
        "y2 = y.clone().detach()  # копирование содержимого тензора в новый тензор\n",
        "print(f\"y2:\\n {y2}\\n\")\n",
        "\n",
        "y2.add_(x)\n",
        "print(f\"y2.add_(x) in place:\\n {y2}\\n\")"
      ]
    },
    {
      "cell_type": "code",
      "execution_count": null,
      "metadata": {
        "id": "wY8G-BpfOj5C",
        "outputId": "44917feb-2fcb-4667-fb60-6e08c6a2efb4"
      },
      "outputs": [
        {
          "name": "stdout",
          "output_type": "stream",
          "text": [
            "z = torch.sub(x, y):\n",
            " tensor([[ 0.1342,  0.1479],\n",
            "        [ 0.1750, -0.0638]])\n",
            "\n",
            "z = torch.mul(x,y):\n",
            " tensor([[0.4065, 0.3814],\n",
            "        [0.0207, 0.8922]])\n",
            "\n",
            "z = torch.div(x,y):\n",
            " tensor([[1.2338, 1.2698],\n",
            "        [3.1630, 0.9347]])\n",
            "\n"
          ]
        }
      ],
      "source": [
        "# вычитание:\n",
        "z = x - y\n",
        "z = torch.sub(x, y)\n",
        "print(f\"z = torch.sub(x, y):\\n {z}\\n\")\n",
        "\n",
        "# умножение (поэлементное!):\n",
        "z = x * y\n",
        "z = torch.mul(x, y)\n",
        "print(f\"z = torch.mul(x,y):\\n {z}\\n\")\n",
        "\n",
        "# деление:\n",
        "z = x / y\n",
        "z = torch.div(x, y)\n",
        "print(f\"z = torch.div(x,y):\\n {z}\\n\")"
      ]
    },
    {
      "cell_type": "code",
      "execution_count": null,
      "metadata": {
        "id": "zPzWpsaJOj5C",
        "outputId": "f9129a79-567b-47be-b962-b7891723b585"
      },
      "outputs": [
        {
          "name": "stdout",
          "output_type": "stream",
          "text": [
            "x - y:\n",
            " tensor([[ 0.1342,  0.1479],\n",
            "        [ 0.1750, -0.0638]])\n",
            "\n",
            "z = torch.abs(x - y):\n",
            " tensor([[0.1342, 0.1479],\n",
            "        [0.1750, 0.0638]])\n",
            "\n",
            "z.abs_():\n",
            " tensor([[0.1342, 0.1479],\n",
            "        [0.1750, 0.0638]])\n",
            "\n"
          ]
        }
      ],
      "source": [
        "print(f\"x - y:\\n {x - y}\\n\")\n",
        "\n",
        "z = torch.abs(x - y)  # полэлементный рассчет модуля\n",
        "print(f\"z = torch.abs(x - y):\\n {z}\\n\")\n",
        "\n",
        "z = x - y\n",
        "z.abs_()\n",
        "print(f\"z.abs_():\\n {z}\\n\")"
      ]
    },
    {
      "cell_type": "code",
      "execution_count": null,
      "metadata": {
        "id": "75cjJQu7Oj5D",
        "outputId": "4fdbca4e-b13d-4bf8-c260-a85892eec5a6"
      },
      "outputs": [
        {
          "data": {
            "text/plain": [
              "tensor([[0.7595, 0.7675],\n",
              "        [0.9675, 0.6112]])"
            ]
          },
          "execution_count": 34,
          "metadata": {},
          "output_type": "execute_result"
        }
      ],
      "source": [
        "torch.cos(x)  # поэлементный рассчет cos\n",
        "# x.cos_()"
      ]
    },
    {
      "cell_type": "code",
      "execution_count": null,
      "metadata": {
        "id": "IDT32jQ_Oj5D",
        "outputId": "7a38f45a-0263-4a17-fe5d-aa42bb52fa66"
      },
      "outputs": [
        {
          "data": {
            "text/plain": [
              "tensor([[0.6700, 0.6673],\n",
              "        [0.5636, 0.7137]])"
            ]
          },
          "execution_count": 35,
          "metadata": {},
          "output_type": "execute_result"
        }
      ],
      "source": [
        "torch.sigmoid(x)  # рассчет сигмоиды\n",
        "# x.sigmoid_()"
      ]
    },
    {
      "cell_type": "markdown",
      "metadata": {
        "id": "aKM7k1pDOj5D"
      },
      "source": [
        "Справка по математическим опреациям тут: https://pytorch.org/docs/stable/torch.html#math-operations"
      ]
    },
    {
      "cell_type": "markdown",
      "metadata": {
        "id": "IWmuCMnOOj5D"
      },
      "source": [
        "#### Операции, изменяющие размер тензора: <a class=\"anchor\" id=\"размер\"></a>\n",
        "* [к оглавлению](#разделы)"
      ]
    },
    {
      "cell_type": "code",
      "execution_count": null,
      "metadata": {
        "id": "cGcscxy6Oj5D",
        "outputId": "522501a1-50d6-45c6-cba9-07090dcc981d"
      },
      "outputs": [
        {
          "name": "stdout",
          "output_type": "stream",
          "text": [
            "tensor([[0.7138, 0.2471, 0.6717],\n",
            "        [0.0373, 0.5937, 0.7310],\n",
            "        [0.9484, 0.3353, 0.8093],\n",
            "        [0.7989, 0.3761, 0.9186],\n",
            "        [0.1488, 0.2010, 0.8336]])\n",
            "tensor(0.5937)\n",
            "tensor([0.7138, 0.0373, 0.9484, 0.7989, 0.1488])\n",
            "tensor([0.0373, 0.5937, 0.7310])\n"
          ]
        }
      ],
      "source": [
        "# Операции среза (slicing) (работает аналогично NumPy):\n",
        "x = torch.rand(5, 3)\n",
        "print(x)\n",
        "print(x[1, 1])  # элемент с индексо 1, 1 (результат: тензор размерности 0!)\n",
        "print(x[:, 0])  # все строки, столбец 0\n",
        "print(x[1, :])  # строка 1, все столбцы"
      ]
    },
    {
      "cell_type": "code",
      "execution_count": null,
      "metadata": {
        "id": "8uPp58njOj5D",
        "outputId": "86380137-7550-4213-e563-e4686d2b67c1"
      },
      "outputs": [
        {
          "name": "stdout",
          "output_type": "stream",
          "text": [
            "tensor(0.5937) <class 'torch.Tensor'>\n"
          ]
        }
      ],
      "source": [
        "# тензор размерности 0 (скаляр), все равно остается типом 'torch.Tensor':\n",
        "print(x[1, 1], type(x[1, 1]))"
      ]
    },
    {
      "cell_type": "code",
      "execution_count": null,
      "metadata": {
        "id": "ffOTJelnOj5D",
        "outputId": "ad9f22ab-52f2-431b-e5dd-0b441ef6afd1"
      },
      "outputs": [
        {
          "name": "stdout",
          "output_type": "stream",
          "text": [
            "0.5937265753746033\n"
          ]
        }
      ],
      "source": [
        "# получение самого значения из тензора размерности 0:\n",
        "print(x[1, 1].item())"
      ]
    },
    {
      "cell_type": "code",
      "execution_count": null,
      "metadata": {
        "id": "tB-sPhWvOj5D",
        "outputId": "765512e5-767c-41c4-dfe8-f23186f19814"
      },
      "outputs": [
        {
          "name": "stdout",
          "output_type": "stream",
          "text": [
            "0.03734868764877319\n",
            "0.5937265753746033\n",
            "0.7309621572494507\n"
          ]
        }
      ],
      "source": [
        "# итерирование по тензору:\n",
        "for v in x[1, :]:\n",
        "    print(v.item())"
      ]
    },
    {
      "cell_type": "code",
      "execution_count": null,
      "metadata": {
        "id": "AOu1a72gOj5E",
        "outputId": "e8a45d77-3979-467a-ccc8-f0c66dc51419"
      },
      "outputs": [
        {
          "name": "stdout",
          "output_type": "stream",
          "text": [
            "tensor([[ 0.4164,  0.3138,  0.4193, -0.4315],\n",
            "        [-0.8047,  0.0067, -1.0980,  0.3134],\n",
            "        [-0.0957,  0.6471,  1.4447, -0.7019],\n",
            "        [ 0.5640, -1.0908,  1.4601,  0.3345]]) torch.Size([4, 4]) \n",
            "\n"
          ]
        }
      ],
      "source": [
        "# Изменение формы тензора (reshape) с помощью torch.view():\n",
        "x = torch.randn(4, 4)  # матрица 4 на 4\n",
        "print(x, x.size(), \"\\n\")"
      ]
    },
    {
      "cell_type": "code",
      "execution_count": null,
      "metadata": {
        "id": "4wEmEdRhOj5E",
        "outputId": "ab4cf0f2-c0a6-4f69-eee8-ad6667bd2451"
      },
      "outputs": [
        {
          "name": "stdout",
          "output_type": "stream",
          "text": [
            "tensor([ 0.4164,  0.3138,  0.4193, -0.4315, -0.8047,  0.0067, -1.0980,  0.3134,\n",
            "        -0.0957,  0.6471,  1.4447, -0.7019,  0.5640, -1.0908,  1.4601,  0.3345]) torch.Size([16]) \n",
            "\n",
            "tensor([[[ 0.4164,  0.3138,  0.4193, -0.4315],\n",
            "         [-0.8047,  0.0067, -1.0980,  0.3134]],\n",
            "\n",
            "        [[-0.0957,  0.6471,  1.4447, -0.7019],\n",
            "         [ 0.5640, -1.0908,  1.4601,  0.3345]]]) torch.Size([2, 2, 4]) \n",
            "\n"
          ]
        }
      ],
      "source": [
        "y = x.view(16)  # вектор из 16 компонент\n",
        "print(y, y.size(), \"\\n\")\n",
        "z = x.view(2, 2, 4)  # тензор 2 на 2 на 4\n",
        "print(z, z.size(), \"\\n\")"
      ]
    },
    {
      "cell_type": "code",
      "execution_count": null,
      "metadata": {
        "id": "kcbBn4D1Oj5E",
        "outputId": "f9620f79-37e1-41d8-a88c-1b0630c73358"
      },
      "outputs": [
        {
          "name": "stdout",
          "output_type": "stream",
          "text": [
            "tensor([[ 0.4164,  0.3138,  0.4193, -0.4315, -0.8047,  0.0067, -1.0980,  0.3134],\n",
            "        [-0.0957,  0.6471,  1.4447, -0.7019,  0.5640, -1.0908,  1.4601,  0.3345]]) torch.Size([2, 8])\n"
          ]
        }
      ],
      "source": [
        "t = x.view(\n",
        "    -1, 8\n",
        ")  # размер -1 означает, что размерность этой компоненты будет подобрана автоматически\n",
        "print(t, t.size())"
      ]
    },
    {
      "cell_type": "code",
      "execution_count": null,
      "metadata": {
        "id": "Td6g3B60Oj5E",
        "outputId": "300b2959-53fe-409c-c260-cb111dcf9c13"
      },
      "outputs": [
        {
          "name": "stdout",
          "output_type": "stream",
          "text": [
            "tensor([[0.0926, 0.3118, 0.3955],\n",
            "        [0.1013, 0.1723, 0.8476]])\n",
            "tensor([[0.0080, 0.9232, 0.2711],\n",
            "        [0.2135, 0.7795, 0.3130]])\n"
          ]
        }
      ],
      "source": [
        "x1 = torch.rand(2, 3)\n",
        "print(x1)\n",
        "y1 = torch.rand(2, 3)\n",
        "print(y1)"
      ]
    },
    {
      "cell_type": "code",
      "execution_count": null,
      "metadata": {
        "id": "sOgMnhWiOj5E",
        "outputId": "3fe117a2-1edc-4221-860f-ce68f3ca650d"
      },
      "outputs": [
        {
          "name": "stdout",
          "output_type": "stream",
          "text": [
            "tensor([[0.0926, 0.3118, 0.3955],\n",
            "        [0.1013, 0.1723, 0.8476],\n",
            "        [0.0080, 0.9232, 0.2711],\n",
            "        [0.2135, 0.7795, 0.3130]]) torch.Size([4, 3])\n",
            "tensor([[0.0926, 0.3118, 0.3955],\n",
            "        [0.1013, 0.1723, 0.8476],\n",
            "        [0.0080, 0.9232, 0.2711],\n",
            "        [0.2135, 0.7795, 0.3130]]) torch.Size([4, 3])\n",
            "tensor([[0.0926, 0.3118, 0.3955, 0.0080, 0.9232, 0.2711],\n",
            "        [0.1013, 0.1723, 0.8476, 0.2135, 0.7795, 0.3130]]) torch.Size([2, 6])\n"
          ]
        }
      ],
      "source": [
        "# Конкатенация (concatenation):\n",
        "\n",
        "# Concatenates 2 tensors on zeroth dimension:\n",
        "concat1 = torch.cat((x1, y1))\n",
        "print(concat1, concat1.size())\n",
        "\n",
        "# Concatenates 2 tensors on zeroth dimension\n",
        "x = torch.rand(2, 3)\n",
        "concat2 = torch.cat((x1, y1), dim=0)\n",
        "print(concat2, concat2.size())\n",
        "\n",
        "# Concatenates 2 tensors on first dimension\n",
        "x = torch.rand(2, 3)\n",
        "concat3 = torch.cat((x1, y1), dim=1)\n",
        "print(concat3, concat3.size())"
      ]
    },
    {
      "cell_type": "code",
      "execution_count": null,
      "metadata": {
        "id": "CEvGQfDTOj5E",
        "outputId": "107a32d7-a027-455c-94d1-370a2302e961"
      },
      "outputs": [
        {
          "name": "stdout",
          "output_type": "stream",
          "text": [
            "tensor([[0.0926, 0.3118, 0.3955],\n",
            "        [0.1013, 0.1723, 0.8476]])\n",
            "(tensor([[0.0926, 0.3118, 0.3955]]), tensor([[0.1013, 0.1723, 0.8476]])) torch.Size([1, 3])\n",
            "tensor([[0.0926, 0.3118],\n",
            "        [0.1013, 0.1723]]) torch.Size([2, 2]) \n",
            " tensor([[0.3955],\n",
            "        [0.8476]]) torch.Size([2, 1])\n"
          ]
        }
      ],
      "source": [
        "# Разбиение тензора (split):\n",
        "print(x1)\n",
        "\n",
        "splitted1 = x1.split(split_size=1, dim=0)\n",
        "print(splitted1, splitted1[0].size())  # 2 tensors of 2x2 and 1x2 size\n",
        "\n",
        "splitted2 = x1.split(split_size=2, dim=1)\n",
        "print(\n",
        "    splitted2[0], splitted2[0].size(), \"\\n\", splitted2[1], splitted2[1].size()\n",
        ")  # 2 tensors of 2x2 and 1x2 size"
      ]
    },
    {
      "cell_type": "code",
      "execution_count": null,
      "metadata": {
        "id": "xRXoRXw5Oj5F",
        "outputId": "e178053c-fc96-44ce-f0f3-877bb84f4cd8"
      },
      "outputs": [
        {
          "name": "stdout",
          "output_type": "stream",
          "text": [
            "tensor([[0.0926, 0.3118, 0.3955],\n",
            "        [0.1013, 0.1723, 0.8476]])\n",
            "tensor([[0.0080, 0.9232, 0.2711],\n",
            "        [0.2135, 0.7795, 0.3130]])\n",
            "tensor([[[0.0926, 0.3118, 0.3955],\n",
            "         [0.1013, 0.1723, 0.8476]],\n",
            "\n",
            "        [[0.0080, 0.9232, 0.2711],\n",
            "         [0.2135, 0.7795, 0.3130]]]) torch.Size([2, 2, 3])\n"
          ]
        }
      ],
      "source": [
        "# stack:\n",
        "print(x1)\n",
        "print(y1)\n",
        "\n",
        "stacked1 = torch.stack((x1, y1), dim=0)\n",
        "print(stacked1, stacked1.size())  # возвращает тензор: 2(в результате stak!) x 2 x 3"
      ]
    },
    {
      "cell_type": "code",
      "execution_count": null,
      "metadata": {
        "id": "9LSKj5OeOj5F",
        "outputId": "ebe5fc32-096b-4cac-9c9b-6fb6cc6317f2"
      },
      "outputs": [
        {
          "name": "stdout",
          "output_type": "stream",
          "text": [
            "tensor([[[0.0926, 0.3118, 0.3955],\n",
            "         [0.0080, 0.9232, 0.2711]],\n",
            "\n",
            "        [[0.1013, 0.1723, 0.8476],\n",
            "         [0.2135, 0.7795, 0.3130]]]) torch.Size([2, 2, 3])\n"
          ]
        }
      ],
      "source": [
        "stacked2 = torch.stack((x1, y1), dim=1)\n",
        "print(stacked2, stacked2.size())  # возвращает тензор: 2 x 2(в результате stak!) x 3"
      ]
    },
    {
      "cell_type": "code",
      "execution_count": null,
      "metadata": {
        "id": "3wOnn6oZOj5F",
        "outputId": "1ab3f26b-5ab3-441b-b669-9cd2749011ce"
      },
      "outputs": [
        {
          "name": "stdout",
          "output_type": "stream",
          "text": [
            "tensor([[[0.8240],\n",
            "         [0.9296]],\n",
            "\n",
            "        [[0.2884],\n",
            "         [0.3572]],\n",
            "\n",
            "        [[0.9202],\n",
            "         [0.6503]]])\n",
            "tensor([[0.8240, 0.9296],\n",
            "        [0.2884, 0.3572],\n",
            "        [0.9202, 0.6503]])\n"
          ]
        }
      ],
      "source": [
        "# sqeeze and unsqueeze\n",
        "x2 = torch.rand(3, 2, 1)  # a tensor of size 3x2x1\n",
        "print(x2)\n",
        "squeezed1 = x2.squeeze()\n",
        "print(squeezed1)  # remove the 1 sized dimension"
      ]
    },
    {
      "cell_type": "code",
      "execution_count": null,
      "metadata": {
        "id": "kpJyNbJLOj5F",
        "outputId": "43616ede-501a-444b-8e23-9a0df43b6578"
      },
      "outputs": [
        {
          "name": "stdout",
          "output_type": "stream",
          "text": [
            "tensor([0.0148, 0.2274, 0.7602])\n",
            "tensor([[0.0148, 0.2274, 0.7602]]) torch.Size([1, 3])\n",
            "tensor([[0.0148],\n",
            "        [0.2274],\n",
            "        [0.7602]]) torch.Size([3, 1])\n"
          ]
        }
      ],
      "source": [
        "x3 = torch.rand(3)\n",
        "print(x3)\n",
        "\n",
        "with_fake_dimension1 = x3.unsqueeze(0)\n",
        "print(\n",
        "    with_fake_dimension1, with_fake_dimension1.size()\n",
        ")  # added a fake zeroth dimensionz\n",
        "\n",
        "with_fake_dimension2 = x3.unsqueeze(1)\n",
        "print(\n",
        "    with_fake_dimension2, with_fake_dimension2.size()\n",
        ")  # added a fake zeroth dimensionz"
      ]
    },
    {
      "cell_type": "code",
      "execution_count": null,
      "metadata": {
        "id": "74eAq5vZOj5F",
        "outputId": "9d6f64aa-001a-46d9-c708-8b67577188bd"
      },
      "outputs": [
        {
          "name": "stdout",
          "output_type": "stream",
          "text": [
            "tensor([1., 2., 3., 4.]) tensor([0., 1., 2.])\n",
            "tensor([[0., 1., 2.],\n",
            "        [0., 2., 4.],\n",
            "        [0., 3., 6.],\n",
            "        [0., 4., 8.]]) torch.Size([4, 3])\n"
          ]
        }
      ],
      "source": [
        "# Распространение (broadcasting) - так же как в NumPy:\n",
        "\n",
        "t1 = torch.arange(1.0, 5.0)\n",
        "t3 = torch.arange(0.0, 3.0)\n",
        "print(t1, t3)\n",
        "tm = t1.ger(t3)\n",
        "print(tm, tm.size())"
      ]
    },
    {
      "cell_type": "code",
      "execution_count": null,
      "metadata": {
        "id": "ksOfUVZ_Oj5G",
        "outputId": "7ee4cc34-6179-4df7-ea69-577c6bc10fe7"
      },
      "outputs": [
        {
          "ename": "RuntimeError",
          "evalue": "The size of tensor a (4) must match the size of tensor b (3) at non-singleton dimension 1",
          "output_type": "error",
          "traceback": [
            "\u001b[1;31m---------------------------------------------------------------------------\u001b[0m",
            "\u001b[1;31mRuntimeError\u001b[0m                              Traceback (most recent call last)",
            "Cell \u001b[1;32mIn[51], line 1\u001b[0m\n\u001b[1;32m----> 1\u001b[0m \u001b[43mt1\u001b[49m\u001b[43m \u001b[49m\u001b[38;5;241;43m*\u001b[39;49m\u001b[43m \u001b[49m\u001b[43mtm\u001b[49m\n",
            "\u001b[1;31mRuntimeError\u001b[0m: The size of tensor a (4) must match the size of tensor b (3) at non-singleton dimension 1"
          ]
        }
      ],
      "source": [
        "t1 * tm"
      ]
    },
    {
      "cell_type": "code",
      "execution_count": null,
      "metadata": {
        "id": "GUgtmX8WOj5G",
        "outputId": "ce6c11c4-a656-4839-aaec-6211dc8e2c3d"
      },
      "outputs": [
        {
          "data": {
            "text/plain": [
              "tensor([[ 0.,  1.,  2.],\n",
              "        [ 0.,  4.,  8.],\n",
              "        [ 0.,  9., 18.],\n",
              "        [ 0., 16., 32.]])"
            ]
          },
          "execution_count": 37,
          "metadata": {},
          "output_type": "execute_result"
        }
      ],
      "source": [
        "t1[:, np.newaxis] * tm"
      ]
    },
    {
      "cell_type": "code",
      "execution_count": null,
      "metadata": {
        "id": "mdvhS9H5Oj5G",
        "outputId": "d411db48-efbf-4568-ce6f-dbcd1c6907f2"
      },
      "outputs": [
        {
          "data": {
            "text/plain": [
              "tensor([[ 0.,  0.,  0.,  0.],\n",
              "        [ 1.,  4.,  9., 16.],\n",
              "        [ 2.,  8., 18., 32.]])"
            ]
          },
          "execution_count": 38,
          "metadata": {},
          "output_type": "execute_result"
        }
      ],
      "source": [
        "t1 * tm.T"
      ]
    },
    {
      "cell_type": "code",
      "execution_count": null,
      "metadata": {
        "id": "Y92MVTPZOj5G",
        "outputId": "e898b14c-396b-4e1b-c2e6-ee140da0b509"
      },
      "outputs": [
        {
          "data": {
            "text/plain": [
              "torch.Size([4])"
            ]
          },
          "execution_count": 39,
          "metadata": {},
          "output_type": "execute_result"
        }
      ],
      "source": [
        "t1.shape"
      ]
    },
    {
      "cell_type": "code",
      "execution_count": null,
      "metadata": {
        "id": "hhji0g67Oj5G",
        "outputId": "dc5f5978-58a7-4bbb-8d71-aced3da3e975"
      },
      "outputs": [
        {
          "data": {
            "text/plain": [
              "(torch.Size([4]), torch.Size([4, 3]), 4)"
            ]
          },
          "execution_count": 40,
          "metadata": {},
          "output_type": "execute_result"
        }
      ],
      "source": [
        "t1.size(), tm.size(), tm.size(0)"
      ]
    },
    {
      "cell_type": "code",
      "execution_count": null,
      "metadata": {
        "id": "XDggOnlGOj5G",
        "outputId": "5b31425f-7733-4504-e521-df2454136007"
      },
      "outputs": [
        {
          "name": "stdout",
          "output_type": "stream",
          "text": [
            "tensor([[1.],\n",
            "        [2.],\n",
            "        [3.],\n",
            "        [4.]])\n",
            "tensor([[0., 1., 2.],\n",
            "        [0., 2., 4.],\n",
            "        [0., 3., 6.],\n",
            "        [0., 4., 8.]])\n"
          ]
        }
      ],
      "source": [
        "print(t1.unsqueeze(1))\n",
        "print(tm)"
      ]
    },
    {
      "cell_type": "code",
      "execution_count": null,
      "metadata": {
        "id": "D7ymZqfDOj5H",
        "outputId": "8ea1b3d3-0ece-47e0-9cfa-fa9425327280"
      },
      "outputs": [
        {
          "data": {
            "text/plain": [
              "tensor([[ 0.,  1.,  2.],\n",
              "        [ 0.,  4.,  8.],\n",
              "        [ 0.,  9., 18.],\n",
              "        [ 0., 16., 32.]])"
            ]
          },
          "execution_count": 42,
          "metadata": {},
          "output_type": "execute_result"
        }
      ],
      "source": [
        "t1.unsqueeze(1) * tm"
      ]
    },
    {
      "cell_type": "code",
      "execution_count": null,
      "metadata": {
        "id": "0D_rC4ogOj5H",
        "outputId": "4f78aa1b-9a49-41d8-8ef9-86dc94bd672b"
      },
      "outputs": [
        {
          "data": {
            "text/plain": [
              "(torch.Size([4, 1]), torch.Size([4, 3]))"
            ]
          },
          "execution_count": 43,
          "metadata": {},
          "output_type": "execute_result"
        }
      ],
      "source": [
        "t1.unsqueeze(1).size(), tm.size()"
      ]
    },
    {
      "cell_type": "markdown",
      "metadata": {
        "id": "_mgGgr-pOj5H"
      },
      "source": [
        "#### Операции агрегации: <a class=\"anchor\" id=\"агрегации\"></a>\n",
        "* [к оглавлению](#разделы)"
      ]
    },
    {
      "cell_type": "code",
      "execution_count": null,
      "metadata": {
        "id": "4tRP5TYfOj5H",
        "outputId": "c061ae4f-1844-4c07-97da-fe0a0b9f6d68"
      },
      "outputs": [
        {
          "data": {
            "text/plain": [
              "tensor(30.)"
            ]
          },
          "execution_count": 44,
          "metadata": {},
          "output_type": "execute_result"
        }
      ],
      "source": [
        "mat = torch.tensor([[0.0, 1.0, 2.0], [0.0, 2.0, 4.0], [0.0, 3.0, 6.0], [0.0, 4.0, 8.0]])\n",
        "\n",
        "# суммирование по всем элементам:\n",
        "mat.sum()"
      ]
    },
    {
      "cell_type": "code",
      "execution_count": null,
      "metadata": {
        "id": "oxx74b89Oj5H",
        "outputId": "6e123605-facd-4b51-98d3-93fba41db4f5"
      },
      "outputs": [
        {
          "data": {
            "text/plain": [
              "tensor([ 0., 10., 20.])"
            ]
          },
          "execution_count": 45,
          "metadata": {},
          "output_type": "execute_result"
        }
      ],
      "source": [
        "# суммирование по оси 0:\n",
        "mat.sum(dim=0)"
      ]
    },
    {
      "cell_type": "code",
      "execution_count": null,
      "metadata": {
        "id": "m7_OGSuZOj5H",
        "outputId": "44c5ef9f-5b94-41b0-96a9-3ed76c9363b8"
      },
      "outputs": [
        {
          "data": {
            "text/plain": [
              "tensor([ 3.,  6.,  9., 12.])"
            ]
          },
          "execution_count": 46,
          "metadata": {},
          "output_type": "execute_result"
        }
      ],
      "source": [
        "# суммирование по оси 1:\n",
        "mat.sum(dim=1)"
      ]
    },
    {
      "cell_type": "code",
      "execution_count": null,
      "metadata": {
        "id": "xWTqafomOj5H",
        "outputId": "d78b19e5-36cd-4d2a-9ef6-eb2a40f29382"
      },
      "outputs": [
        {
          "name": "stdout",
          "output_type": "stream",
          "text": [
            "tensor(2.5000)\n",
            "tensor([0.0000, 2.5000, 5.0000])\n",
            "tensor([1., 2., 3., 4.])\n"
          ]
        }
      ],
      "source": [
        "# получение среднего значения:\n",
        "\n",
        "print(mat.mean())\n",
        "print(mat.mean(dim=0))\n",
        "print(mat.mean(dim=1))"
      ]
    },
    {
      "cell_type": "markdown",
      "metadata": {
        "id": "E-yMscU1Oj5H"
      },
      "source": [
        "#### Матричные операции: <a class=\"anchor\" id=\"матричные\"></a>\n",
        "* [к оглавлению](#разделы)"
      ]
    },
    {
      "cell_type": "code",
      "execution_count": null,
      "metadata": {
        "id": "2x7l245uOj5H",
        "outputId": "345c6c20-e82d-443c-fe12-d083a057b90d"
      },
      "outputs": [
        {
          "name": "stdout",
          "output_type": "stream",
          "text": [
            "x:\n",
            " tensor([[0.0565, 0.8277],\n",
            "        [0.4019, 0.1110]])\n",
            "\n",
            "y:\n",
            " tensor([[0.7624, 0.7915],\n",
            "        [0.4682, 0.0586]])\n",
            "\n",
            "z = torch.mul(x,y):\n",
            " tensor([[0.0431, 0.6551],\n",
            "        [0.1882, 0.0065]])\n",
            "\n",
            "z = torch.mul(x,y):\n",
            " tensor([[0.0431, 0.6551],\n",
            "        [0.1882, 0.0065]])\n",
            "\n"
          ]
        }
      ],
      "source": [
        "# Умножение (поэлементное!):\n",
        "\n",
        "x = torch.rand(2, 2)\n",
        "print(f\"x:\\n {x}\\n\")\n",
        "y = torch.rand(2, 2)\n",
        "print(f\"y:\\n {y}\\n\")\n",
        "\n",
        "z = x * y\n",
        "print(f\"z = torch.mul(x,y):\\n {z}\\n\")\n",
        "z = torch.mul(x, y)\n",
        "print(f\"z = torch.mul(x,y):\\n {z}\\n\")"
      ]
    },
    {
      "cell_type": "code",
      "execution_count": null,
      "metadata": {
        "id": "zGfA4qIUOj5I",
        "outputId": "cf1159e8-1c27-4d9b-a119-058d4ba3e266"
      },
      "outputs": [
        {
          "name": "stdout",
          "output_type": "stream",
          "text": [
            "tensor([[-1.7613,  1.6505, -0.4095],\n",
            "        [ 0.3940, -0.5887, -0.6166]]) torch.Size([2, 3])\n",
            "tensor([ 0.3372, -0.4361,  0.4460]) torch.Size([3])\n",
            "tensor([-1.4964,  0.1146]) torch.Size([2])\n"
          ]
        }
      ],
      "source": [
        "# Умножение матрицы на вектор:\n",
        "\n",
        "# torch.mv(input, vec, out=None) → Tensor\n",
        "# Performs a matrix-vector product of the matrix input and the vector vec.\n",
        "# If input is a (n \\times m)(n×m) tensor, vec is a 1-D tensor of size mm , out will be 1-D of size nn .\n",
        "\n",
        "mat = torch.randn(2, 3)\n",
        "print(mat, mat.size())\n",
        "vec = torch.randn(3)\n",
        "print(vec, vec.size())\n",
        "res = torch.mv(mat, vec)\n",
        "print(res, res.size())"
      ]
    },
    {
      "cell_type": "code",
      "execution_count": null,
      "metadata": {
        "id": "Lqhlgx2ROj5I",
        "outputId": "e322668d-13fc-434f-8547-e363b2545bb3"
      },
      "outputs": [
        {
          "name": "stdout",
          "output_type": "stream",
          "text": [
            "tensor([[ 0.5826,  1.0309, -0.2949],\n",
            "        [ 1.4914, -0.5143, -0.9869]]) torch.Size([2, 3])\n",
            "tensor([[-0.7848, -1.2220,  0.0648],\n",
            "        [-1.4567,  1.1853, -0.4477],\n",
            "        [ 0.1605,  1.5593,  0.8356]]) torch.Size([3, 3])\n",
            "tensor([[-2.0063,  0.0502, -0.6702],\n",
            "        [-0.5797, -3.9710, -0.4977]]) torch.Size([2, 3])\n"
          ]
        }
      ],
      "source": [
        "# Умножение матрицы на матрицу:\n",
        "\n",
        "# torch.mm(input, mat2, out=None) → Tensor\n",
        "# Performs a matrix multiplication of the matrices input and mat2.\n",
        "# If input is a (n×m) tensor, mat2 is a (m×p) tensor, out will be a (n×p) tensor.\n",
        "\n",
        "mat1 = torch.randn(2, 3)\n",
        "print(mat1, mat1.size())\n",
        "mat2 = torch.randn(3, 3)\n",
        "print(mat2, mat2.size())\n",
        "res = torch.mm(mat1, mat2)\n",
        "print(res, res.size())"
      ]
    },
    {
      "cell_type": "code",
      "execution_count": null,
      "metadata": {
        "id": "KlKkwJfEOj5I",
        "outputId": "c0a2e084-3969-4f2d-9e90-02cd7571fd2c"
      },
      "outputs": [
        {
          "data": {
            "text/plain": [
              "tensor([[-2.0063,  0.0502, -0.6702],\n",
              "        [-0.5797, -3.9710, -0.4977]])"
            ]
          },
          "execution_count": 55,
          "metadata": {},
          "output_type": "execute_result"
        }
      ],
      "source": [
        "mat1.mm(mat2)"
      ]
    },
    {
      "cell_type": "code",
      "execution_count": null,
      "metadata": {
        "id": "OobVJpgMOj5I",
        "outputId": "ab59824e-e5f4-4eb0-96d2-72b598baf991"
      },
      "outputs": [
        {
          "name": "stdout",
          "output_type": "stream",
          "text": [
            "tensor([1, 2, 3]) torch.Size([3])\n",
            "tensor([1, 2]) torch.Size([2])\n",
            "tensor([[1, 2],\n",
            "        [2, 4],\n",
            "        [3, 6]]) torch.Size([3, 2])\n"
          ]
        }
      ],
      "source": [
        "# Outer product of 2 vectors\n",
        "vec1 = torch.arange(1, 4)  # Size 3\n",
        "print(vec1, vec1.size())\n",
        "vec2 = torch.arange(1, 3)  # Size 2\n",
        "print(vec2, vec2.size())\n",
        "res = torch.ger(\n",
        "    vec1, vec2\n",
        ")  # vec1 - рассматривается как вектор-столбец; vec2 - рассматривается как вектор-строка\n",
        "print(res, res.size())  # Size 3x2"
      ]
    },
    {
      "cell_type": "code",
      "execution_count": null,
      "metadata": {
        "id": "618lb8XqOj5I",
        "outputId": "8962768c-469c-49cc-f1f4-3107d2caf962"
      },
      "outputs": [
        {
          "data": {
            "text/plain": [
              "tensor([[1, 2],\n",
              "        [2, 4],\n",
              "        [3, 6]])"
            ]
          },
          "execution_count": 57,
          "metadata": {},
          "output_type": "execute_result"
        }
      ],
      "source": [
        "vec1.ger(vec2)"
      ]
    },
    {
      "cell_type": "markdown",
      "metadata": {
        "id": "xzQVg1xyOj5I"
      },
      "source": [
        "__Функция matmul__\n",
        "\n",
        "* Matrix product of two tensors: `torch.matmul(input, other, out=None)` → Tensor\n",
        "* The behavior depends on the dimensionality of the tensors as follows:\n",
        "    * If __both tensors are 1-dimensional__, the __dot product (scalar) is returned__.\n",
        "    * If __both arguments are 2-dimensional__, the __matrix-matrix product is returned__.\n",
        "    * If the __first argument is 1-dimensional and the second argument is 2-dimensional__, a 1 is prepended to its dimension for the purpose of the matrix multiply. After the matrix multiply, the prepended dimension is removed.\n",
        "    * If the __first argument is 2-dimensional and the second argument is 1-dimensional__, the matrix-vector product is returned.\n",
        "    * If __both arguments are at least 1-dimensional and at least one argument is N-dimensional (where N > 2)__, then a batched matrix multiply is returned. If the first argument is 1-dimensional, a 1 is prepended to its dimension for the purpose of the batched matrix multiply and removed after. If the second argument is 1-dimensional, a 1 is appended to its dimension for the purpose of the batched matrix multiple and removed after. The non-matrix (i.e. batch) dimensions are broadcasted (and thus must be broadcastable). For example, if input is a $j \\times 1 \\times n \\times m$ tensor and other is a $k \\times m \\times p$ tensor, out will be an $j \\times k \\times n \\times p$ tensor."
      ]
    },
    {
      "cell_type": "code",
      "execution_count": null,
      "metadata": {
        "id": "ExXnWd_9Oj5I",
        "outputId": "3d4a05d3-1571-4d70-e5c3-81f4ad6dad49"
      },
      "outputs": [
        {
          "data": {
            "text/plain": [
              "tensor([0, 1, 2, 3])"
            ]
          },
          "execution_count": 58,
          "metadata": {},
          "output_type": "execute_result"
        }
      ],
      "source": [
        "torch.arange(4)"
      ]
    },
    {
      "cell_type": "code",
      "execution_count": null,
      "metadata": {
        "id": "JxzOWDpIOj5J",
        "outputId": "559018c9-83d2-46af-a4ee-f93ba34183f4"
      },
      "outputs": [
        {
          "data": {
            "text/plain": [
              "tensor([[ 0,  1,  2,  3],\n",
              "        [ 4,  5,  6,  7],\n",
              "        [ 8,  9, 10, 11]])"
            ]
          },
          "execution_count": 59,
          "metadata": {},
          "output_type": "execute_result"
        }
      ],
      "source": [
        "torch.arange(3 * 4).view(3, 4)"
      ]
    },
    {
      "cell_type": "code",
      "execution_count": null,
      "metadata": {
        "id": "y1ilQ_1COj5J",
        "outputId": "3a0a97c8-92cf-4926-9b58-1aa2cc6671af"
      },
      "outputs": [
        {
          "name": "stdout",
          "output_type": "stream",
          "text": [
            "tensor([ 0.5414, -0.5718,  0.6430]) torch.Size([3])\n",
            "tensor([ 1.2537,  0.2538, -0.7962]) torch.Size([3])\n",
            "tensor(0.0216) torch.Size([])\n"
          ]
        }
      ],
      "source": [
        "# vector x vector\n",
        "tensor1 = torch.randn(3)\n",
        "print(tensor1, tensor1.size())\n",
        "tensor2 = torch.randn(3)\n",
        "print(tensor2, tensor2.size())\n",
        "res = torch.matmul(tensor1, tensor2)\n",
        "print(res, res.size())  # результат: скаляр"
      ]
    },
    {
      "cell_type": "code",
      "execution_count": null,
      "metadata": {
        "id": "4lfe6KVBOj5J",
        "outputId": "be081e97-b0b3-4e0b-e45e-9a540f7d5493"
      },
      "outputs": [
        {
          "data": {
            "text/plain": [
              "tensor(0.0216)"
            ]
          },
          "execution_count": 61,
          "metadata": {},
          "output_type": "execute_result"
        }
      ],
      "source": [
        "# Вызов функции matmul можно выполнять с помощью оператора @:\n",
        "tensor1 @ tensor2"
      ]
    },
    {
      "cell_type": "code",
      "execution_count": null,
      "metadata": {
        "id": "YaE1J-bIOj5J",
        "outputId": "eca17971-7776-42dc-ba19-f2ff959c0c37"
      },
      "outputs": [
        {
          "name": "stdout",
          "output_type": "stream",
          "text": [
            "tensor([[ 0,  1,  2,  3],\n",
            "        [ 4,  5,  6,  7],\n",
            "        [ 8,  9, 10, 11]]) torch.Size([3, 4])\n",
            "tensor([0, 1, 2]) torch.Size([3])\n",
            "tensor([20, 23, 26, 29]) torch.Size([4])\n"
          ]
        }
      ],
      "source": [
        "# vector x matrix\n",
        "tensor1 = torch.arange(3 * 4).view(3, 4)\n",
        "print(tensor1, tensor1.size())\n",
        "tensor2 = torch.arange(3)\n",
        "print(tensor2, tensor2.size())\n",
        "\n",
        "res = torch.matmul(tensor2, tensor1)\n",
        "print(res, res.size())"
      ]
    },
    {
      "cell_type": "code",
      "execution_count": null,
      "metadata": {
        "id": "ZTdtJJlfOj5J",
        "outputId": "924c2b09-9b5c-44b3-e9e1-1462aeb5feeb"
      },
      "outputs": [
        {
          "data": {
            "text/plain": [
              "tensor([20, 23, 26, 29])"
            ]
          },
          "execution_count": 63,
          "metadata": {},
          "output_type": "execute_result"
        }
      ],
      "source": [
        "# или:\n",
        "tensor2 @ tensor1"
      ]
    },
    {
      "cell_type": "code",
      "execution_count": null,
      "metadata": {
        "id": "LHc2Fi8DOj5J",
        "outputId": "ece2ac90-d824-4e66-9a2c-61a21b048fe4"
      },
      "outputs": [
        {
          "name": "stdout",
          "output_type": "stream",
          "text": [
            "tensor([[ 0,  1,  2,  3],\n",
            "        [ 4,  5,  6,  7],\n",
            "        [ 8,  9, 10, 11]]) torch.Size([3, 4])\n",
            "tensor([0, 1, 2, 3]) torch.Size([4])\n",
            "tensor([14, 38, 62]) torch.Size([3])\n"
          ]
        }
      ],
      "source": [
        "# matrix x vector\n",
        "tensor1 = torch.arange(3 * 4).view(3, 4)\n",
        "print(tensor1, tensor1.size())\n",
        "tensor2 = torch.arange(4)\n",
        "print(tensor2, tensor2.size())\n",
        "\n",
        "res = torch.matmul(tensor1, tensor2)\n",
        "print(res, res.size())"
      ]
    },
    {
      "cell_type": "code",
      "execution_count": null,
      "metadata": {
        "id": "lmjT0LJTOj5J",
        "outputId": "32acefd1-8eb2-4741-a6ab-24eb8421b40e"
      },
      "outputs": [
        {
          "data": {
            "text/plain": [
              "tensor([14, 38, 62])"
            ]
          },
          "execution_count": 65,
          "metadata": {},
          "output_type": "execute_result"
        }
      ],
      "source": [
        "tensor1 @ tensor2"
      ]
    },
    {
      "cell_type": "code",
      "execution_count": null,
      "metadata": {
        "id": "9Mz-Fo8ROj5J",
        "outputId": "553381a9-6b0a-420d-ed0d-78fa078e0dc6"
      },
      "outputs": [
        {
          "name": "stdout",
          "output_type": "stream",
          "text": [
            "tensor([[[ 1.7615, -1.7631,  0.4349, -0.6304],\n",
            "         [-1.1468,  1.5635, -1.4728,  1.4979],\n",
            "         [-2.0460, -0.2602,  0.8594, -0.6496]],\n",
            "\n",
            "        [[-0.8606, -0.1757, -0.9371,  0.2939],\n",
            "         [ 0.8248, -0.8789,  1.0729,  0.7116],\n",
            "         [-0.2411, -0.1234,  0.2328, -0.7381]],\n",
            "\n",
            "        [[-1.2233, -0.7129, -0.6197,  0.9168],\n",
            "         [ 0.0181,  0.1617,  1.7460, -0.0185],\n",
            "         [ 0.9813,  1.2280,  2.1491, -0.1907]],\n",
            "\n",
            "        [[ 0.2550,  0.1735,  2.4484, -0.3165],\n",
            "         [-0.4825, -0.6916,  0.1290, -0.3414],\n",
            "         [-0.2275, -0.6790, -0.1668, -0.3515]],\n",
            "\n",
            "        [[ 0.5920,  0.6669, -0.5918,  1.8040],\n",
            "         [ 1.3388, -0.1425,  1.7298,  0.4734],\n",
            "         [-1.2845,  0.5181, -0.0863, -1.5978]],\n",
            "\n",
            "        [[-0.2243, -0.3738, -0.8697, -0.0726],\n",
            "         [-0.8212, -1.5015, -0.1081, -0.4611],\n",
            "         [ 0.3651, -0.0276, -0.3429,  0.3328]],\n",
            "\n",
            "        [[-0.9803,  0.9105, -1.4610, -1.0204],\n",
            "         [-1.1910,  1.1390, -1.6797,  0.7093],\n",
            "         [-0.3371,  0.0223,  0.5625, -0.5272]],\n",
            "\n",
            "        [[ 0.1248,  0.9687,  1.2055, -1.1744],\n",
            "         [ 0.3141,  0.7613,  0.8894,  0.5266],\n",
            "         [ 1.4745, -0.9152, -0.8525,  0.4210]],\n",
            "\n",
            "        [[ 0.3653, -0.2252, -1.0884,  0.4036],\n",
            "         [ 1.1779,  0.9563, -0.7476,  1.1073],\n",
            "         [ 0.6267,  1.5947, -0.6774,  0.5455]],\n",
            "\n",
            "        [[-1.9480, -0.6782, -0.4459,  0.3013],\n",
            "         [ 0.6134,  1.9390,  0.0873,  1.0308],\n",
            "         [-0.9921, -1.9728,  0.7121,  0.4515]]]) torch.Size([10, 3, 4]) \n",
            "------------\n",
            "tensor([-0.9556,  2.2052,  0.8400, -0.6884]) torch.Size([4]) \n",
            "------------\n",
            "tensor([[-4.7720,  2.2756,  2.5502],\n",
            "        [-0.5547, -2.3150,  0.6618],\n",
            "        [-1.5549,  1.8185,  3.7067],\n",
            "        [ 2.4133, -0.7207, -1.1781],\n",
            "        [-0.8339, -0.4664,  3.3972],\n",
            "        [-1.2905, -2.2999, -0.9269],\n",
            "        [ 2.4198,  1.7507,  1.2067],\n",
            "        [ 3.8380,  1.7632, -4.4332],\n",
            "        [-2.0376, -0.4069,  1.9733],\n",
            "        [-0.2161,  3.0536, -3.1153]]) torch.Size([10, 3])\n"
          ]
        }
      ],
      "source": [
        "# batched matrix x broadcasted vector\n",
        "tensor1 = torch.randn(10, 3, 4)\n",
        "print(tensor1, tensor1.size(), \"\\n------------\")\n",
        "tensor2 = torch.randn(4)\n",
        "print(tensor2, tensor2.size(), \"\\n------------\")\n",
        "res = torch.matmul(tensor1, tensor2)\n",
        "print(res, res.size())"
      ]
    },
    {
      "cell_type": "code",
      "execution_count": null,
      "metadata": {
        "id": "a67tc9gfOj5J",
        "outputId": "c532b70d-0230-4b95-8383-41921e867e63"
      },
      "outputs": [
        {
          "name": "stdout",
          "output_type": "stream",
          "text": [
            "torch.Size([10, 3, 4]) \n",
            "------------\n",
            "torch.Size([10, 4, 5]) \n",
            "------------\n",
            "torch.Size([10, 3, 5])\n"
          ]
        }
      ],
      "source": [
        "# batched matrix x batched matrix\n",
        "tensor1 = torch.randn(10, 3, 4)\n",
        "print(tensor1.size(), \"\\n------------\")\n",
        "tensor2 = torch.randn(10, 4, 5)\n",
        "print(tensor2.size(), \"\\n------------\")\n",
        "res = torch.matmul(tensor1, tensor2)\n",
        "print(res.size())"
      ]
    },
    {
      "cell_type": "code",
      "execution_count": null,
      "metadata": {
        "id": "S0CM2olrOj5K",
        "outputId": "936280fa-6e66-4c74-a08c-68ad25f6d82b"
      },
      "outputs": [
        {
          "name": "stdout",
          "output_type": "stream",
          "text": [
            "torch.Size([10, 3, 4]) \n",
            "------------\n",
            "tensor([[ 1.6888, -0.2648,  0.7374,  0.2498,  1.4302],\n",
            "        [ 1.3287, -0.7802,  0.0771, -0.2632, -0.6546],\n",
            "        [-1.3305, -0.1855,  1.1486,  1.2171,  1.8859],\n",
            "        [-0.4627, -0.5245,  0.9507, -0.0350,  0.1994]]) torch.Size([4, 5]) \n",
            "------------\n",
            "torch.Size([10, 3, 5])\n"
          ]
        }
      ],
      "source": [
        "# batched matrix x broadcasted matrix\n",
        "tensor1 = torch.randn(10, 3, 4)\n",
        "print(tensor1.size(), \"\\n------------\")\n",
        "tensor2 = torch.randn(4, 5)\n",
        "print(tensor2, tensor2.size(), \"\\n------------\")\n",
        "res = torch.matmul(tensor1, tensor2)\n",
        "print(res.size())"
      ]
    },
    {
      "cell_type": "markdown",
      "metadata": {
        "id": "pTTsmRFnOj5K"
      },
      "source": [
        "# Автоматическое дифференцирование"
      ]
    },
    {
      "cell_type": "code",
      "execution_count": null,
      "metadata": {
        "id": "0P7JO6vYOj5K",
        "outputId": "79d41006-3463-44e3-d543-e36e8c88a685"
      },
      "outputs": [
        {
          "data": {
            "text/plain": [
              "(tensor([5., 1.], grad_fn=<MulBackward0>),\n",
              " tensor(6., grad_fn=<SumBackward0>),\n",
              " tensor([6.]))"
            ]
          },
          "execution_count": 69,
          "metadata": {},
          "output_type": "execute_result"
        }
      ],
      "source": [
        "x = torch.tensor([5.0, 1.0])\n",
        "w = torch.tensor([1.0], requires_grad=True)\n",
        "\n",
        "f = (x * w).sum()\n",
        "f.backward()\n",
        "x * w, f, w.grad"
      ]
    },
    {
      "cell_type": "code",
      "execution_count": null,
      "metadata": {
        "id": "ZGTKQg2eOj5K",
        "outputId": "ac6ca305-7ce7-43fb-ddec-bff14515e541"
      },
      "outputs": [
        {
          "data": {
            "text/plain": [
              "tensor([12.])"
            ]
          },
          "execution_count": 70,
          "metadata": {},
          "output_type": "execute_result"
        }
      ],
      "source": [
        "# Если не обнулять градиенты, они будут накапливаться после каждого backward вызова\n",
        "f = (x * w).sum()\n",
        "f.backward()\n",
        "w.grad"
      ]
    },
    {
      "cell_type": "code",
      "execution_count": null,
      "metadata": {
        "id": "onJusGlbOj5K",
        "outputId": "06ab0063-6065-49b3-881c-6d7f84455bfe"
      },
      "outputs": [
        {
          "data": {
            "text/plain": [
              "tensor([0.])"
            ]
          },
          "execution_count": 71,
          "metadata": {},
          "output_type": "execute_result"
        }
      ],
      "source": [
        "w.grad.zero_()"
      ]
    },
    {
      "cell_type": "markdown",
      "metadata": {
        "id": "2wTLoV4eOj5K"
      },
      "source": [
        "## Задача 1\n",
        "\n",
        "Реализуйте слой линейной регрессии и совершите обучение на данных ниже при помощи автоматического дифференцирования. Проверьте корректность обучения, визуализируйте ошибку"
      ]
    },
    {
      "cell_type": "code",
      "execution_count": null,
      "metadata": {
        "id": "nq3z72i9Oj5K"
      },
      "outputs": [],
      "source": [
        "class Neuron:\n",
        "    def __init__(self, n_features: int) -> None:\n",
        "        self.w = torch.rand(n_features, requires_grad=True, dtype=torch.float64)\n",
        "        self.b = torch.tensor(1, requires_grad=True, dtype=torch.float64)\n",
        "\n",
        "    def forward(self, inputs: torch.Tensor) -> torch.Tensor:\n",
        "        y_pred = inputs.type(torch.float64)@self.w + self.b\n",
        "        return y_pred"
      ]
    },
    {
      "cell_type": "code",
      "execution_count": null,
      "metadata": {
        "id": "4tjFJ9N6Oj5K",
        "outputId": "d2e44209-3b41-4372-9a36-8d4c32934ebe"
      },
      "outputs": [
        {
          "data": {
            "text/plain": [
              "array([65.72658292, 63.49562167,  2.73747407, 34.81162936])"
            ]
          },
          "execution_count": 73,
          "metadata": {},
          "output_type": "execute_result"
        }
      ],
      "source": [
        "n_features = 4\n",
        "X, y, coef = make_regression(\n",
        "    n_features=n_features, n_informative=4, coef=True, bias=0.5\n",
        ")\n",
        "coef"
      ]
    },
    {
      "cell_type": "code",
      "execution_count": null,
      "metadata": {
        "id": "KSGKKV9qOj5K"
      },
      "outputs": [],
      "source": [
        "loss = torch.nn.MSELoss()\n",
        "layer = Neuron(n_features=n_features)\n",
        "learning_rate = 1e-2\n",
        "num_epochs = 100\n",
        "\n",
        "for _ in range(num_epochs):\n",
        "    for x_el, y_el in zip(X, y):\n",
        "        x_el_t = torch.tensor(x_el)\n",
        "        y_el_t = torch.tensor(y_el)\n",
        "\n",
        "        y_pred = layer.forward(x_el_t)\n",
        "        loss.forward(y_pred, y_el_t).backward()\n",
        "\n",
        "        with torch.no_grad():\n",
        "            layer.w -= learning_rate * layer.w.grad\n",
        "            layer.b -= learning_rate * layer.b.grad\n",
        "\n",
        "            layer.w.grad.zero_()\n",
        "            layer.b.grad.zero_()"
      ]
    },
    {
      "cell_type": "code",
      "execution_count": null,
      "metadata": {
        "id": "ssueB63_Oj5L",
        "outputId": "2edaef7c-19a1-416f-8163-fa3682f56c16"
      },
      "outputs": [
        {
          "data": {
            "text/plain": [
              "(tensor([65.7266, 63.4956,  2.7375, 34.8116], dtype=torch.float64,\n",
              "        requires_grad=True),\n",
              " array([65.72658292, 63.49562167,  2.73747407, 34.81162936]))"
            ]
          },
          "execution_count": 75,
          "metadata": {},
          "output_type": "execute_result"
        }
      ],
      "source": [
        "layer.w, coef"
      ]
    },
    {
      "cell_type": "code",
      "execution_count": null,
      "metadata": {
        "id": "Z_tTR2tzOj5L",
        "outputId": "dbd2f948-9373-4a11-c60c-5a19de03c4b5"
      },
      "outputs": [
        {
          "data": {
            "text/plain": [
              "tensor(0.5000, dtype=torch.float64, requires_grad=True)"
            ]
          },
          "execution_count": 76,
          "metadata": {},
          "output_type": "execute_result"
        }
      ],
      "source": [
        "layer.b"
      ]
    },
    {
      "cell_type": "markdown",
      "metadata": {
        "id": "qBaERs0FOj5L"
      },
      "source": [
        "# Модули и оптимизаторы"
      ]
    },
    {
      "cell_type": "markdown",
      "metadata": {
        "id": "qBYI7MKLOj5L"
      },
      "source": [
        "Modules"
      ]
    },
    {
      "cell_type": "code",
      "execution_count": null,
      "metadata": {
        "id": "eR7qr4vMOj5L",
        "outputId": "0dab4388-ec1a-40e1-c579-a545753775fd"
      },
      "outputs": [
        {
          "data": {
            "text/plain": [
              "[Parameter containing:\n",
              " tensor([[ 0.3507, -0.3459, -0.4409],\n",
              "         [-0.0530,  0.1757,  0.2602],\n",
              "         [-0.4989,  0.3280, -0.4804],\n",
              "         [ 0.1760,  0.1633, -0.4876]], requires_grad=True),\n",
              " Parameter containing:\n",
              " tensor([-0.4815, -0.4160, -0.1686, -0.3563], requires_grad=True)]"
            ]
          },
          "execution_count": 77,
          "metadata": {},
          "output_type": "execute_result"
        }
      ],
      "source": [
        "layer = nn.Linear(3, 4)\n",
        "list(layer.parameters())"
      ]
    },
    {
      "cell_type": "code",
      "execution_count": null,
      "metadata": {
        "id": "Gl6I1AbbOj5L",
        "outputId": "314ed33a-dd0a-43b4-ba75-31e000da89a2"
      },
      "outputs": [
        {
          "data": {
            "text/plain": [
              "[Parameter containing:\n",
              " tensor([[ 0.2499,  0.4387],\n",
              "         [ 0.4513, -0.3436]], requires_grad=True),\n",
              " Parameter containing:\n",
              " tensor([ 0.6046, -0.4166], requires_grad=True),\n",
              " Parameter containing:\n",
              " tensor([[0.4473, 0.6985]], requires_grad=True),\n",
              " Parameter containing:\n",
              " tensor([-0.2984], requires_grad=True)]"
            ]
          },
          "execution_count": 78,
          "metadata": {},
          "output_type": "execute_result"
        }
      ],
      "source": [
        "class MyModule(nn.Module):\n",
        "    def __init__(self) -> None:\n",
        "        super().__init__()\n",
        "        self.layer1 = nn.Linear(2, 2)\n",
        "        self.relu = nn.ReLU()\n",
        "        self.layer2 = nn.Linear(2, 1)\n",
        "\n",
        "    def forward(self, x: torch.Tensor) -> torch.Tensor:\n",
        "        x = self.layer1(x)\n",
        "        x = self.relu(x)\n",
        "        x = self.layer2(x)\n",
        "        return x\n",
        "\n",
        "layer = MyModule()\n",
        "list(layer.parameters())"
      ]
    },
    {
      "cell_type": "code",
      "execution_count": null,
      "metadata": {
        "id": "C4fm0IM4Oj5L",
        "outputId": "767c2364-dac0-4731-fd38-7029a4e6c77e"
      },
      "outputs": [
        {
          "data": {
            "text/plain": [
              "[Parameter containing:\n",
              " tensor([[ 0.6198, -0.3546],\n",
              "         [ 0.3124, -0.5849]], requires_grad=True),\n",
              " Parameter containing:\n",
              " tensor([-0.1115,  0.0677], requires_grad=True),\n",
              " Parameter containing:\n",
              " tensor([[-0.7019, -0.2028]], requires_grad=True),\n",
              " Parameter containing:\n",
              " tensor([0.4784], requires_grad=True)]"
            ]
          },
          "execution_count": 79,
          "metadata": {},
          "output_type": "execute_result"
        }
      ],
      "source": [
        "layer = nn.Sequential(nn.Linear(2, 2), nn.ReLU(), nn.Linear(2, 1))\n",
        "list(layer.parameters())"
      ]
    },
    {
      "cell_type": "code",
      "execution_count": null,
      "metadata": {
        "id": "_YITg1BXOj5L",
        "outputId": "e582628e-c354-4c55-e0ec-6edf524ab9d5"
      },
      "outputs": [
        {
          "data": {
            "text/plain": [
              "tensor([1], device='cuda:0')"
            ]
          },
          "execution_count": 80,
          "metadata": {},
          "output_type": "execute_result"
        }
      ],
      "source": [
        "torch.tensor([1]).cuda()"
      ]
    },
    {
      "cell_type": "code",
      "execution_count": null,
      "metadata": {
        "id": "Oq2XvIT_Oj5L",
        "outputId": "58ed4df1-6a31-4052-8b84-e30db3b8fc54"
      },
      "outputs": [
        {
          "data": {
            "text/plain": [
              "Sequential(\n",
              "  (0): Linear(in_features=2, out_features=2, bias=True)\n",
              "  (1): ReLU()\n",
              "  (2): Linear(in_features=2, out_features=1, bias=True)\n",
              ")"
            ]
          },
          "execution_count": 81,
          "metadata": {},
          "output_type": "execute_result"
        }
      ],
      "source": [
        "layer.cuda()"
      ]
    },
    {
      "cell_type": "markdown",
      "metadata": {
        "id": "n4xubdE5Oj5L"
      },
      "source": [
        "Optimizer"
      ]
    },
    {
      "cell_type": "code",
      "execution_count": null,
      "metadata": {
        "id": "NY985QUYOj5L"
      },
      "outputs": [],
      "source": [
        "optimizer = torch.optim.SGD(layer.parameters(), lr=1e-2)\n",
        "\n",
        "# Когда посчитаны градиенты - обновить веса:\n",
        "optimizer.step()\n",
        "\n",
        "optimizer.zero_grad()"
      ]
    },
    {
      "cell_type": "markdown",
      "metadata": {
        "id": "qjbjzQNwOj5L"
      },
      "source": [
        "Dataset/dataloader"
      ]
    },
    {
      "cell_type": "code",
      "execution_count": null,
      "metadata": {
        "id": "PXBPJihUOj5M"
      },
      "outputs": [],
      "source": [
        "# Пример датасета\n",
        "X = torch.linspace(0, 1, 100).view(-1, 1)\n",
        "y = torch.sin(2 * np.pi * X) + 0.1 * torch.rand(X.size())"
      ]
    },
    {
      "cell_type": "code",
      "execution_count": null,
      "metadata": {
        "id": "n7ZCZYOPOj5M",
        "outputId": "90dfe801-8e45-4caa-8b33-d9b9143ada4e"
      },
      "outputs": [
        {
          "data": {
            "text/plain": [
              "{'feature': tensor([0.]), 'target': tensor([0.0544])}"
            ]
          },
          "execution_count": 84,
          "metadata": {},
          "output_type": "execute_result"
        }
      ],
      "source": [
        "class SinDataset(Dataset):\n",
        "    def __init__(self, X: torch.Tensor, y: torch.Tensor):\n",
        "        assert X.ndim == y.ndim == 2\n",
        "        self.X = X\n",
        "        self.y = y\n",
        "\n",
        "    def __len__(self) -> int:\n",
        "        return len(self.X)\n",
        "\n",
        "    def __getitem__(self, idx) -> dict[str, torch.Tensor]:\n",
        "        return {\n",
        "            'feature': self.X[idx],\n",
        "            'target': self.y[idx],\n",
        "        }\n",
        "\n",
        "\n",
        "dataset = SinDataset(X, y)\n",
        "\n",
        "dataset[0]"
      ]
    },
    {
      "cell_type": "code",
      "execution_count": null,
      "metadata": {
        "id": "mvRWV4GbOj5M",
        "outputId": "b021b835-8260-4ca7-93a2-607e5cff2c65"
      },
      "outputs": [
        {
          "name": "stdout",
          "output_type": "stream",
          "text": [
            "X_batch: torch.Size([10, 1]), y_batch: torch.Size([10, 1])\n",
            "X_batch: torch.Size([10, 1]), y_batch: torch.Size([10, 1])\n",
            "X_batch: torch.Size([10, 1]), y_batch: torch.Size([10, 1])\n",
            "X_batch: torch.Size([10, 1]), y_batch: torch.Size([10, 1])\n",
            "X_batch: torch.Size([10, 1]), y_batch: torch.Size([10, 1])\n",
            "X_batch: torch.Size([10, 1]), y_batch: torch.Size([10, 1])\n",
            "X_batch: torch.Size([10, 1]), y_batch: torch.Size([10, 1])\n",
            "X_batch: torch.Size([10, 1]), y_batch: torch.Size([10, 1])\n",
            "X_batch: torch.Size([10, 1]), y_batch: torch.Size([10, 1])\n",
            "X_batch: torch.Size([10, 1]), y_batch: torch.Size([10, 1])\n"
          ]
        }
      ],
      "source": [
        "dataloader = DataLoader(dataset, batch_size=10)\n",
        "\n",
        "for batch in dataloader:\n",
        "    print(f\"X_batch: {batch['feature'].shape}, y_batch: {batch['target'].shape}\")"
      ]
    },
    {
      "cell_type": "markdown",
      "metadata": {
        "id": "tbySPdcsOj5M"
      },
      "source": [
        "Transforms"
      ]
    },
    {
      "cell_type": "code",
      "execution_count": null,
      "metadata": {
        "id": "WH83QIMTOj5M",
        "outputId": "8d6e930d-37ff-420f-842e-d0274d8d542c"
      },
      "outputs": [
        {
          "data": {
            "text/plain": [
              "tensor([[[0.0039, 0.0039, 0.0039],\n",
              "         [0.0039, 0.0039, 0.0039],\n",
              "         [0.0039, 0.0039, 0.0039]]])"
            ]
          },
          "execution_count": 86,
          "metadata": {},
          "output_type": "execute_result"
        }
      ],
      "source": [
        "to_tensor_transform = transforms.ToTensor()\n",
        "image = np.array([\n",
        "    [1, 1, 1],\n",
        "    [1, 1, 1],\n",
        "    [1, 1, 1],\n",
        "]).astype('uint8')\n",
        "to_tensor_transform(image)"
      ]
    },
    {
      "cell_type": "code",
      "execution_count": null,
      "metadata": {
        "id": "WJx8Dr_hOj5M",
        "outputId": "4b0cc77d-9efc-4e46-8f17-6e413ac0291a"
      },
      "outputs": [
        {
          "data": {
            "text/plain": [
              "tensor([[[0.0039, 0.0039, 0.0039],\n",
              "         [0.0039, 0.0039, 0.0039],\n",
              "         [0.0039, 0.0039, 0.0039]]])"
            ]
          },
          "execution_count": 87,
          "metadata": {},
          "output_type": "execute_result"
        }
      ],
      "source": [
        "to_tensor_transform(Image.fromarray(image))"
      ]
    },
    {
      "cell_type": "code",
      "execution_count": null,
      "metadata": {
        "id": "wDwE2HUNOj5M",
        "outputId": "3ef4ba40-6f94-4140-9ac3-46414fce6a5b"
      },
      "outputs": [
        {
          "data": {
            "image/jpeg": "[encoded data removed]",
            "image/png": "[encoded data removed]",
            "text/plain": [
              "<PIL.Image.Image image mode=L size=100x100>"
            ]
          },
          "execution_count": 88,
          "metadata": {},
          "output_type": "execute_result"
        }
      ],
      "source": [
        "to_pil_transform = transforms.ToPILImage()\n",
        "image = torch.arange(10000).reshape(100, 100).to(torch.uint8)\n",
        "to_pil_transform(image)"
      ]
    },
    {
      "cell_type": "code",
      "execution_count": null,
      "metadata": {
        "id": "XkKtqHupOj5M",
        "outputId": "c06e1e80-aa93-4623-da85-54724108798f"
      },
      "outputs": [
        {
          "data": {
            "text/plain": [
              "Compose(\n",
              "    ToTensor()\n",
              "    Resize(size=(256, 256), interpolation=bilinear, max_size=None, antialias=True)\n",
              ")"
            ]
          },
          "execution_count": 89,
          "metadata": {},
          "output_type": "execute_result"
        }
      ],
      "source": [
        "# Можно объединять трансформы\n",
        "transforms.Compose([\n",
        "    transforms.ToTensor(),\n",
        "    transforms.Resize((256, 256)),\n",
        "])"
      ]
    },
    {
      "cell_type": "markdown",
      "metadata": {
        "id": "nGbEBcmuOj5M"
      },
      "source": [
        "## Задача 2. Решить задачу классификации на датасете MNIST\n",
        "\n",
        "* Предложить архитектуру модели для решения задачи\n",
        "* Посчитать количество параметров модели\n",
        "* Обучить модель\n",
        "* Вывести график функции потерь по эпохам\n",
        "* Используя тестовое множество\n",
        "\n",
        "  * Продемонстрировать работу модели: вывести несколько изображений, указать над ними правильный класс и класс, предсказанный моделью.\n",
        "\n",
        "  * Вывести матрицу ошибок.\n",
        "\n",
        "  * Вывести значение accuracy на тестовом множестве.\n",
        "* Сохранить модель"
      ]
    },
    {
      "cell_type": "code",
      "execution_count": 45,
      "metadata": {},
      "outputs": [
        {
          "data": {
            "text/plain": [
              "device(type='cuda')"
            ]
          },
          "execution_count": 45,
          "metadata": {},
          "output_type": "execute_result"
        }
      ],
      "source": [
        "device = torch.device('cuda' if torch.cuda.is_available() else 'cpu')\n",
        "device"
      ]
    },
    {
      "cell_type": "code",
      "execution_count": 46,
      "metadata": {
        "id": "wT0RmFLdOj5N"
      },
      "outputs": [],
      "source": [
        "transform = transforms.ToTensor()\n",
        "train_dataset = MNIST('./datasets/mnist', train=True, download=True, transform=transform)\n",
        "test_dataset = MNIST('./datasets/mnist', train=False, download=True, transform=transform)"
      ]
    },
    {
      "cell_type": "code",
      "execution_count": 47,
      "metadata": {
        "id": "BesP8uzhOj5N"
      },
      "outputs": [],
      "source": [
        "train_loader = DataLoader(train_dataset, batch_size=16384)\n",
        "test_loader = DataLoader(test_dataset, batch_size=16384)"
      ]
    },
    {
      "cell_type": "code",
      "execution_count": 48,
      "metadata": {
        "id": "a1KUV32cOj5N"
      },
      "outputs": [],
      "source": [
        "class MyModule(nn.Module):\n",
        "    def __init__(self):\n",
        "        super().__init__()\n",
        "        self.flatten = nn.Flatten()\n",
        "        self.layer1 = nn.Linear(28 * 28, 128)\n",
        "        self.layer2 = nn.Linear(128, 128)\n",
        "        self.layer3 = nn.Linear(128, 128)\n",
        "        self.layer4 = nn.Linear(128, 10)\n",
        "        self.relu = nn.ReLU()\n",
        "\n",
        "    def forward(self, x):\n",
        "        x = self.flatten(x)\n",
        "        x = self.relu(self.layer1(x))\n",
        "        x = self.relu(self.layer2(x))\n",
        "        x = self.relu(self.layer3(x))\n",
        "        return self.layer4(x)"
      ]
    },
    {
      "cell_type": "code",
      "execution_count": 49,
      "metadata": {
        "id": "oSRLznMzOj5N"
      },
      "outputs": [],
      "source": [
        "model = MyModule().to(device)\n",
        "criterion = nn.CrossEntropyLoss()\n",
        "optimizer = optim.Adam(model.parameters(), lr=0.001)"
      ]
    },
    {
      "cell_type": "code",
      "execution_count": 50,
      "metadata": {
        "id": "w0S04aqiOj5N",
        "outputId": "249b0e4e-0590-40e9-cbea-4adf50ab9067"
      },
      "outputs": [
        {
          "data": {
            "text/plain": [
              "134794"
            ]
          },
          "execution_count": 50,
          "metadata": {},
          "output_type": "execute_result"
        }
      ],
      "source": [
        "(28 * 28 + 1) * 128 + \\\n",
        "(128 + 1) * 128 * 2 + \\\n",
        "(128 + 1) * 10"
      ]
    },
    {
      "cell_type": "code",
      "execution_count": 51,
      "metadata": {
        "id": "LclyoDzlOj5N",
        "outputId": "7d7b8636-c05f-46a9-c9fb-6723c05444d5"
      },
      "outputs": [
        {
          "name": "stdout",
          "output_type": "stream",
          "text": [
            "----------------------------------------------------------------\n",
            "        Layer (type)               Output Shape         Param #\n",
            "================================================================\n",
            "           Flatten-1                  [-1, 784]               0\n",
            "            Linear-2                  [-1, 128]         100,480\n",
            "              ReLU-3                  [-1, 128]               0\n",
            "            Linear-4                  [-1, 128]          16,512\n",
            "              ReLU-5                  [-1, 128]               0\n",
            "            Linear-6                  [-1, 128]          16,512\n",
            "              ReLU-7                  [-1, 128]               0\n",
            "            Linear-8                   [-1, 10]           1,290\n",
            "================================================================\n",
            "Total params: 134,794\n",
            "Trainable params: 134,794\n",
            "Non-trainable params: 0\n",
            "----------------------------------------------------------------\n",
            "Input size (MB): 0.00\n",
            "Forward/backward pass size (MB): 0.01\n",
            "Params size (MB): 0.51\n",
            "Estimated Total Size (MB): 0.53\n",
            "----------------------------------------------------------------\n"
          ]
        }
      ],
      "source": [
        "summary(model, (28 * 28,))  # Total params: 134,794"
      ]
    },
    {
      "cell_type": "code",
      "execution_count": 52,
      "metadata": {
        "id": "B9p2S2KWOj5N",
        "outputId": "27b6e775-0844-438b-935a-cbf41f04ac1b"
      },
      "outputs": [
        {
          "name": "stdout",
          "output_type": "stream",
          "text": [
            "Epoch 1, Loss: 9.1439\n",
            "Epoch 2, Loss: 8.8495\n",
            "Epoch 3, Loss: 8.1770\n",
            "Epoch 4, Loss: 6.9628\n",
            "Epoch 5, Loss: 5.3835\n",
            "Epoch 6, Loss: 3.9222\n",
            "Epoch 7, Loss: 2.9220\n",
            "Epoch 8, Loss: 2.3592\n",
            "Epoch 9, Loss: 2.0444\n",
            "Epoch 10, Loss: 1.8302\n",
            "Epoch 11, Loss: 1.6658\n",
            "Epoch 12, Loss: 1.5390\n",
            "Epoch 13, Loss: 1.4405\n",
            "Epoch 14, Loss: 1.3594\n",
            "Epoch 15, Loss: 1.2863\n",
            "Epoch 16, Loss: 1.2250\n",
            "Epoch 17, Loss: 1.1739\n",
            "Epoch 18, Loss: 1.1285\n",
            "Epoch 19, Loss: 1.0866\n",
            "Epoch 20, Loss: 1.0490\n"
          ]
        }
      ],
      "source": [
        "loss_list = []\n",
        "num_epochs = 20\n",
        "for epoch in range(num_epochs):\n",
        "    loss_sum = 0\n",
        "    for i, data in enumerate(train_loader):\n",
        "        model.train()\n",
        "        X, y = data[0].to(device), data[1].to(device)\n",
        "\n",
        "        y_pred = model.forward(X)\n",
        "\n",
        "        loss = criterion.forward(y_pred, y)\n",
        "\n",
        "        optimizer.zero_grad()\n",
        "\n",
        "        loss.backward()\n",
        "\n",
        "        loss_sum += loss.item()\n",
        "\n",
        "        optimizer.step()\n",
        "\n",
        "    print(f'Epoch {epoch + 1}, Loss: {loss_sum:.4f}')\n",
        "    loss_list.append(loss_sum)"
      ]
    },
    {
      "cell_type": "code",
      "execution_count": 53,
      "metadata": {
        "id": "DqyVzD9GOj5N",
        "outputId": "d6282c98-f5e3-42fe-d95e-1937d016cee7"
      },
      "outputs": [
        {
          "data": {
            "image/png": "[encoded data removed]",
            "text/plain": [
              "<Figure size 640x480 with 1 Axes>"
            ]
          },
          "metadata": {},
          "output_type": "display_data"
        }
      ],
      "source": [
        "X_lab = range(1, len(loss_list)+1)\n",
        "plt.plot(X_lab, loss_list)\n",
        "plt.title('Loss per Epoch')\n",
        "plt.xticks(X_lab)\n",
        "plt.grid(True)\n",
        "plt.show()"
      ]
    },
    {
      "cell_type": "code",
      "execution_count": 55,
      "metadata": {
        "id": "hTCtfCGIOj5N"
      },
      "outputs": [],
      "source": [
        "y_pred_list, y_true_list = [], []\n",
        "for i, data in enumerate(test_loader):\n",
        "    X, y = data[0].to(device), data[1].to(device)\n",
        "\n",
        "    with torch.no_grad():\n",
        "        y_pred = model(X)\n",
        "    _, predicted = torch.max(y_pred, 1)\n",
        "\n",
        "    y_pred_list.extend(predicted.tolist())\n",
        "    y_true_list.extend(y.tolist())"
      ]
    },
    {
      "cell_type": "code",
      "execution_count": 56,
      "metadata": {
        "id": "aSXYshunOj5N",
        "outputId": "66856593-6e98-4c50-ac79-28ce250e6fce"
      },
      "outputs": [
        {
          "data": {
            "text/plain": [
              "(0.9266, 0.9255798841501729)"
            ]
          },
          "execution_count": 56,
          "metadata": {},
          "output_type": "execute_result"
        }
      ],
      "source": [
        "accuracy_score(y_true_list, y_pred_list), f1_score(y_true_list, y_pred_list, average='macro')"
      ]
    },
    {
      "cell_type": "code",
      "execution_count": 57,
      "metadata": {
        "id": "KIgM3SXMOj5N",
        "outputId": "4278c13f-2d87-4289-d534-8195d0f577af"
      },
      "outputs": [
        {
          "data": {
            "text/plain": [
              "<Axes: >"
            ]
          },
          "execution_count": 57,
          "metadata": {},
          "output_type": "execute_result"
        },
        {
          "data": {
            "image/png": "[encoded data removed]",
            "text/plain": [
              "<Figure size 640x480 with 2 Axes>"
            ]
          },
          "metadata": {},
          "output_type": "display_data"
        }
      ],
      "source": [
        "sns.heatmap(confusion_matrix(y_true_list, y_pred_list), annot=True, fmt='.0f')"
      ]
    },
    {
      "cell_type": "code",
      "execution_count": 58,
      "metadata": {
        "id": "rprPHjLeOj5O",
        "outputId": "c338c696-6aeb-4894-d8ce-34dbccbd5765"
      },
      "outputs": [
        {
          "name": "stdout",
          "output_type": "stream",
          "text": [
            "              precision    recall  f1-score   support\n",
            "\n",
            "           0       0.94      0.98      0.96       980\n",
            "           1       0.97      0.98      0.98      1135\n",
            "           2       0.93      0.91      0.92      1032\n",
            "           3       0.90      0.91      0.91      1010\n",
            "           4       0.92      0.94      0.93       982\n",
            "           5       0.93      0.87      0.90       892\n",
            "           6       0.94      0.95      0.95       958\n",
            "           7       0.94      0.92      0.93      1028\n",
            "           8       0.88      0.90      0.89       974\n",
            "           9       0.91      0.91      0.91      1009\n",
            "\n",
            "    accuracy                           0.93     10000\n",
            "   macro avg       0.93      0.93      0.93     10000\n",
            "weighted avg       0.93      0.93      0.93     10000\n",
            "\n"
          ]
        }
      ],
      "source": [
        "print(classification_report(y_true_list, y_pred_list))"
      ]
    },
    {
      "cell_type": "code",
      "execution_count": 80,
      "metadata": {
        "id": "Z_Y70e-XOj5O",
        "outputId": "8947d9bd-0083-4077-91f2-129276a41180"
      },
      "outputs": [
        {
          "name": "stdout",
          "output_type": "stream",
          "text": [
            "Предсказание 6, Правда 6\n"
          ]
        },
        {
          "data": {
            "image/png": "[encoded data removed]",
            "text/plain": [
              "<Figure size 640x480 with 1 Axes>"
            ]
          },
          "metadata": {},
          "output_type": "display_data"
        }
      ],
      "source": [
        "ix = torch.randint(0, len(test_dataset), (1,))\n",
        "image = test_dataset.data[ix]\n",
        "y_true = test_dataset.targets[ix]\n",
        "image_flat = image.numpy().flatten()\n",
        "\n",
        "X = torch.tensor(image_flat, dtype=torch.float32).unsqueeze(0).to(device)\n",
        "y_pred = model(X)\n",
        "\n",
        "_, value = torch.max(y_pred, 1)\n",
        "print(f'Предсказание {value.item()}, Правда {y_true.item()}')\n",
        "\n",
        "to_pil_transform = transforms.ToPILImage()\n",
        "plt.imshow(to_pil_transform(image), cmap='gray')\n",
        "plt.show()"
      ]
    },
    {
      "cell_type": "code",
      "execution_count": 81,
      "metadata": {
        "id": "maXW9KFAOj5O"
      },
      "outputs": [],
      "source": [
        "folder_path = './models'\n",
        "model_name = '01_torch_intro_task_2.pth'\n",
        "full_path = '/'.join((folder_path, model_name))\n",
        "\n",
        "if not os.path.exists(folder_path):\n",
        "    os.mkdir(folder_path)\n",
        "\n",
        "torch.save(model.state_dict(), full_path)\n",
        "# model.load_state_dict(torch.load(full_path))"
      ]
    },
    {
      "cell_type": "markdown",
      "metadata": {
        "id": "wl7XAV8HOj5O"
      },
      "source": [
        "# ДЗ\n",
        "## Задача 3. Решить задачу классификации собак и кошек (датасет [cats_dogs.zip](https://disk.yandex.ru/d/wQtt5O1JF9ctnA)).\n",
        "* Загрузить архив с данными на диск\n",
        "* Создать датасет\n",
        "* Преобразовать изображения к тензорами одного размера (например, 400х400). Потестировать другие преобразования из `torchvision.transforms`\n",
        "* Предложить архитектуру модели для решения задачи. Обучить модель.\n",
        "* Используя тестовое множество\n",
        "\n",
        "  * Продемонстрировать работу модели: вывести несколько изображений, указать над ними правильный класс и класс, предсказанный моделью.\n",
        "\n",
        "  * Вывести матрицу ошибок.\n",
        "\n",
        "  * Вывести значение accuracy на тестовом множестве.\n",
        "  * Попытаться выбить наилучшее качество на тестовом датасете."
      ]
    },
    {
      "cell_type": "code",
      "execution_count": 5,
      "metadata": {
        "colab": {
          "base_uri": "https://localhost:8080/"
        },
        "id": "CgyJyNxKOj5O",
        "outputId": "c319f75e-327b-46dd-b9a6-b8ca71172ef1"
      },
      "outputs": [
        {
          "data": {
            "text/plain": [
              "device(type='cuda')"
            ]
          },
          "execution_count": 5,
          "metadata": {},
          "output_type": "execute_result"
        }
      ],
      "source": [
        "device = torch.device('cuda' if torch.cuda.is_available() else 'cpu')\n",
        "folder_path = './datasets/cats_dogs/train'\n",
        "img_shape = (3, 128, 128)\n",
        "device"
      ]
    },
    {
      "cell_type": "code",
      "execution_count": 6,
      "metadata": {
        "colab": {
          "base_uri": "https://localhost:8080/"
        },
        "id": "WT-k31w6Oj5O",
        "outputId": "b9332fe2-345d-4571-ed9d-2ef3728d141b"
      },
      "outputs": [
        {
          "data": {
            "text/plain": [
              "Dataset ImageFolder\n",
              "    Number of datapoints: 25000\n",
              "    Root location: ./datasets/cats_dogs/train\n",
              "    StandardTransform\n",
              "Transform: Compose(\n",
              "               Resize(size=(128, 128), interpolation=bilinear, max_size=None, antialias=True)\n",
              "               ToTensor()\n",
              "           )"
            ]
          },
          "execution_count": 6,
          "metadata": {},
          "output_type": "execute_result"
        }
      ],
      "source": [
        "transform = transforms.Compose([\n",
        "    transforms.Resize(img_shape[1:]),\n",
        "    transforms.ToTensor(),\n",
        "])\n",
        "dataset = ImageFolder(root=folder_path, transform=transform)\n",
        "dataset"
      ]
    },
    {
      "cell_type": "code",
      "execution_count": 7,
      "metadata": {
        "id": "r0b2D7KdOj5O"
      },
      "outputs": [],
      "source": [
        "train_size = int(0.8 * len(dataset))\n",
        "test_size = len(dataset) - train_size\n",
        "\n",
        "train_dataset, test_dataset = random_split(dataset, [train_size, test_size])\n",
        "\n",
        "train_loader = DataLoader(train_dataset, batch_size=128, shuffle=True)\n",
        "test_loader = DataLoader(test_dataset, batch_size=128, shuffle=False)"
      ]
    },
    {
      "cell_type": "code",
      "execution_count": 8,
      "metadata": {
        "id": "VnlMGvPkOj5O"
      },
      "outputs": [],
      "source": [
        "class MyModule(nn.Module):\n",
        "    def __init__(self):\n",
        "        super(MyModule, self).__init__()\n",
        "        self.layer1 = nn.Sequential(\n",
        "            nn.Conv2d(3, 128, kernel_size=3, padding=1),\n",
        "            nn.ReLU(),\n",
        "            nn.BatchNorm2d(128),\n",
        "            nn.MaxPool2d(2),\n",
        "        )\n",
        "        self.layer2 = nn.Sequential(\n",
        "            nn.Conv2d(128, 512, kernel_size=3, padding=1),\n",
        "            nn.ReLU(),\n",
        "            nn.BatchNorm2d(512),\n",
        "            nn.MaxPool2d(2),\n",
        "        )\n",
        "        self.layer3 = nn.Sequential(\n",
        "            nn.Conv2d(512, 512, kernel_size=3, padding=1),\n",
        "            nn.ReLU(),\n",
        "            nn.BatchNorm2d(512),\n",
        "            nn.MaxPool2d(2),\n",
        "        )\n",
        "        self.classifier = nn.Sequential(\n",
        "            nn.Flatten(),\n",
        "            nn.Linear(8192, 128),\n",
        "            nn.Linear(128, 2),\n",
        "        )\n",
        "\n",
        "    def forward(self, x):\n",
        "        x = self.layer1(x)\n",
        "        x = self.layer2(x)\n",
        "        x = self.layer3(x)\n",
        "        x = self.layer3(x)\n",
        "        x = self.layer3(x)\n",
        "        x = self.classifier(x)\n",
        "        return x"
      ]
    },
    {
      "cell_type": "code",
      "execution_count": 9,
      "metadata": {
        "id": "LRW2a1tNOj5O"
      },
      "outputs": [],
      "source": [
        "model = MyModule().to(device)\n",
        "criterion = nn.CrossEntropyLoss()\n",
        "optimizer = optim.Adam(model.parameters(), lr=1e-3)"
      ]
    },
    {
      "cell_type": "code",
      "execution_count": 10,
      "metadata": {
        "id": "iJT3RT9GOj5P"
      },
      "outputs": [
        {
          "name": "stdout",
          "output_type": "stream",
          "text": [
            "!Epoch 1, Loss: 0.7069, 0\n",
            "!Epoch 1, Loss: 48.4503, 10\n",
            "!Epoch 1, Loss: 61.6852, 20\n",
            "!Epoch 1, Loss: 70.5840, 30\n",
            "!Epoch 1, Loss: 79.5718, 40\n",
            "!Epoch 1, Loss: 87.9038, 50\n",
            "!Epoch 1, Loss: 95.6601, 60\n",
            "!Epoch 1, Loss: 102.3906, 70\n",
            "!Epoch 1, Loss: 109.2781, 80\n",
            "!Epoch 1, Loss: 116.0790, 90\n",
            "!Epoch 1, Loss: 123.9443, 100\n",
            "!Epoch 1, Loss: 131.2365, 110\n",
            "!Epoch 1, Loss: 138.3122, 120\n",
            "!Epoch 1, Loss: 144.1574, 130\n",
            "!Epoch 1, Loss: 150.0149, 140\n",
            "!Epoch 1, Loss: 155.5247, 150\n",
            "Epoch 1, Loss: 159.0117\n",
            "!Epoch 2, Loss: 0.5737, 0\n",
            "!Epoch 2, Loss: 5.9710, 10\n",
            "!Epoch 2, Loss: 11.4123, 20\n",
            "!Epoch 2, Loss: 16.6847, 30\n",
            "!Epoch 2, Loss: 21.7922, 40\n",
            "!Epoch 2, Loss: 27.0551, 50\n",
            "!Epoch 2, Loss: 32.3691, 60\n",
            "!Epoch 2, Loss: 37.5061, 70\n",
            "!Epoch 2, Loss: 42.5970, 80\n",
            "!Epoch 2, Loss: 47.5676, 90\n",
            "!Epoch 2, Loss: 52.5882, 100\n",
            "!Epoch 2, Loss: 57.7478, 110\n",
            "!Epoch 2, Loss: 62.5872, 120\n",
            "!Epoch 2, Loss: 67.1721, 130\n",
            "!Epoch 2, Loss: 71.6826, 140\n",
            "!Epoch 2, Loss: 76.2174, 150\n",
            "Epoch 2, Loss: 79.0728\n",
            "!Epoch 3, Loss: 0.3839, 0\n",
            "!Epoch 3, Loss: 4.9588, 10\n",
            "!Epoch 3, Loss: 9.6419, 20\n",
            "!Epoch 3, Loss: 14.0550, 30\n",
            "!Epoch 3, Loss: 18.2897, 40\n",
            "!Epoch 3, Loss: 22.3101, 50\n",
            "!Epoch 3, Loss: 26.3833, 60\n",
            "!Epoch 3, Loss: 30.5400, 70\n",
            "!Epoch 3, Loss: 34.6169, 80\n",
            "!Epoch 3, Loss: 38.8401, 90\n",
            "!Epoch 3, Loss: 42.6920, 100\n",
            "!Epoch 3, Loss: 46.6022, 110\n",
            "!Epoch 3, Loss: 50.6533, 120\n",
            "!Epoch 3, Loss: 54.8160, 130\n",
            "!Epoch 3, Loss: 58.3555, 140\n",
            "!Epoch 3, Loss: 61.9019, 150\n",
            "Epoch 3, Loss: 64.1220\n",
            "!Epoch 4, Loss: 0.2839, 0\n",
            "!Epoch 4, Loss: 3.8571, 10\n",
            "!Epoch 4, Loss: 7.2883, 20\n",
            "!Epoch 4, Loss: 10.8333, 30\n",
            "!Epoch 4, Loss: 14.1321, 40\n",
            "!Epoch 4, Loss: 17.2346, 50\n",
            "!Epoch 4, Loss: 20.5940, 60\n",
            "!Epoch 4, Loss: 23.7503, 70\n",
            "!Epoch 4, Loss: 27.4119, 80\n",
            "!Epoch 4, Loss: 30.5323, 90\n",
            "!Epoch 4, Loss: 33.3536, 100\n",
            "!Epoch 4, Loss: 36.5826, 110\n",
            "!Epoch 4, Loss: 39.1361, 120\n",
            "!Epoch 4, Loss: 41.9449, 130\n",
            "!Epoch 4, Loss: 44.7097, 140\n",
            "!Epoch 4, Loss: 47.4348, 150\n",
            "Epoch 4, Loss: 49.2979\n",
            "!Epoch 5, Loss: 0.2113, 0\n",
            "!Epoch 5, Loss: 3.3605, 10\n",
            "!Epoch 5, Loss: 5.9730, 20\n",
            "!Epoch 5, Loss: 8.4249, 30\n",
            "!Epoch 5, Loss: 10.8806, 40\n",
            "!Epoch 5, Loss: 13.3122, 50\n",
            "!Epoch 5, Loss: 15.6107, 60\n",
            "!Epoch 5, Loss: 18.1615, 70\n",
            "!Epoch 5, Loss: 20.9250, 80\n",
            "!Epoch 5, Loss: 23.5366, 90\n",
            "!Epoch 5, Loss: 25.8194, 100\n",
            "!Epoch 5, Loss: 28.2515, 110\n",
            "!Epoch 5, Loss: 30.6259, 120\n",
            "!Epoch 5, Loss: 33.0052, 130\n",
            "!Epoch 5, Loss: 35.3063, 140\n",
            "!Epoch 5, Loss: 37.5863, 150\n",
            "Epoch 5, Loss: 38.5124\n",
            "!Epoch 6, Loss: 0.1855, 0\n",
            "!Epoch 6, Loss: 1.5251, 10\n",
            "!Epoch 6, Loss: 3.1781, 20\n",
            "!Epoch 6, Loss: 5.2091, 30\n",
            "!Epoch 6, Loss: 7.3852, 40\n",
            "!Epoch 6, Loss: 9.1544, 50\n",
            "!Epoch 6, Loss: 10.7480, 60\n",
            "!Epoch 6, Loss: 12.5568, 70\n",
            "!Epoch 6, Loss: 14.6991, 80\n",
            "!Epoch 6, Loss: 16.7558, 90\n",
            "!Epoch 6, Loss: 18.8903, 100\n",
            "!Epoch 6, Loss: 20.5670, 110\n",
            "!Epoch 6, Loss: 22.1868, 120\n",
            "!Epoch 6, Loss: 23.8210, 130\n",
            "!Epoch 6, Loss: 25.9097, 140\n",
            "!Epoch 6, Loss: 27.6189, 150\n",
            "Epoch 6, Loss: 28.5766\n",
            "!Epoch 7, Loss: 0.1065, 0\n",
            "!Epoch 7, Loss: 1.6405, 10\n",
            "!Epoch 7, Loss: 3.4266, 20\n",
            "!Epoch 7, Loss: 5.1993, 30\n",
            "!Epoch 7, Loss: 6.8742, 40\n",
            "!Epoch 7, Loss: 8.2329, 50\n",
            "!Epoch 7, Loss: 9.7251, 60\n",
            "!Epoch 7, Loss: 12.2052, 70\n",
            "!Epoch 7, Loss: 14.7960, 80\n",
            "!Epoch 7, Loss: 17.6961, 90\n",
            "!Epoch 7, Loss: 20.2576, 100\n",
            "!Epoch 7, Loss: 22.7531, 110\n",
            "!Epoch 7, Loss: 24.5671, 120\n",
            "!Epoch 7, Loss: 25.9226, 130\n",
            "!Epoch 7, Loss: 27.5003, 140\n",
            "!Epoch 7, Loss: 29.9805, 150\n",
            "Epoch 7, Loss: 30.9210\n",
            "!Epoch 8, Loss: 0.1106, 0\n",
            "!Epoch 8, Loss: 1.5293, 10\n",
            "!Epoch 8, Loss: 2.9017, 20\n",
            "!Epoch 8, Loss: 4.4209, 30\n",
            "!Epoch 8, Loss: 5.5598, 40\n",
            "!Epoch 8, Loss: 6.8887, 50\n",
            "!Epoch 8, Loss: 8.4473, 60\n",
            "!Epoch 8, Loss: 10.6816, 70\n",
            "!Epoch 8, Loss: 12.1806, 80\n",
            "!Epoch 8, Loss: 13.5322, 90\n",
            "!Epoch 8, Loss: 15.8865, 100\n",
            "!Epoch 8, Loss: 17.3302, 110\n",
            "!Epoch 8, Loss: 18.6022, 120\n",
            "!Epoch 8, Loss: 20.2605, 130\n",
            "!Epoch 8, Loss: 22.2976, 140\n",
            "!Epoch 8, Loss: 24.1734, 150\n",
            "Epoch 8, Loss: 24.9931\n",
            "!Epoch 9, Loss: 0.0640, 0\n",
            "!Epoch 9, Loss: 0.8679, 10\n",
            "!Epoch 9, Loss: 1.7364, 20\n",
            "!Epoch 9, Loss: 2.8485, 30\n",
            "!Epoch 9, Loss: 4.0634, 40\n",
            "!Epoch 9, Loss: 5.1132, 50\n",
            "!Epoch 9, Loss: 6.0733, 60\n",
            "!Epoch 9, Loss: 7.1205, 70\n",
            "!Epoch 9, Loss: 7.9412, 80\n",
            "!Epoch 9, Loss: 8.6865, 90\n",
            "!Epoch 9, Loss: 9.5132, 100\n",
            "!Epoch 9, Loss: 10.2436, 110\n",
            "!Epoch 9, Loss: 11.2035, 120\n",
            "!Epoch 9, Loss: 12.1007, 130\n",
            "!Epoch 9, Loss: 13.1161, 140\n",
            "!Epoch 9, Loss: 13.9862, 150\n",
            "Epoch 9, Loss: 14.7148\n",
            "!Epoch 10, Loss: 0.1291, 0\n",
            "!Epoch 10, Loss: 0.7573, 10\n",
            "!Epoch 10, Loss: 1.3034, 20\n",
            "!Epoch 10, Loss: 1.8195, 30\n",
            "!Epoch 10, Loss: 2.5262, 40\n",
            "!Epoch 10, Loss: 3.1092, 50\n",
            "!Epoch 10, Loss: 3.7505, 60\n",
            "!Epoch 10, Loss: 4.4961, 70\n",
            "!Epoch 10, Loss: 5.1442, 80\n",
            "!Epoch 10, Loss: 5.9029, 90\n",
            "!Epoch 10, Loss: 6.5910, 100\n",
            "!Epoch 10, Loss: 7.2655, 110\n",
            "!Epoch 10, Loss: 8.0663, 120\n",
            "!Epoch 10, Loss: 8.7543, 130\n",
            "!Epoch 10, Loss: 9.4993, 140\n",
            "!Epoch 10, Loss: 10.3251, 150\n",
            "Epoch 10, Loss: 10.6425\n"
          ]
        }
      ],
      "source": [
        "loss_list = []\n",
        "num_epochs = 10\n",
        "for epoch in range(num_epochs):\n",
        "    loss_sum = 0\n",
        "    for i, data in enumerate(train_loader):\n",
        "        model.train()\n",
        "        X, y = data[0].to(device), data[1].to(device)\n",
        "\n",
        "        y_pred = model.forward(X)\n",
        "\n",
        "        loss = criterion.forward(y_pred, y)\n",
        "\n",
        "        optimizer.zero_grad()\n",
        "\n",
        "        loss.backward()\n",
        "\n",
        "        loss_sum += loss.item()\n",
        "\n",
        "        optimizer.step()\n",
        "\n",
        "        if i % 10 == 0:\n",
        "            print(f'!Epoch {epoch + 1}, Loss: {loss_sum:.4f}, {i}')\n",
        "\n",
        "    print(f'Epoch {epoch + 1}, Loss: {loss_sum:.4f}')\n",
        "    loss_list.append(loss_sum)"
      ]
    },
    {
      "cell_type": "code",
      "execution_count": 11,
      "metadata": {
        "id": "nYvyDzaQsO04"
      },
      "outputs": [],
      "source": [
        "y_pred_list, y_true_list = [], []\n",
        "for i, data in enumerate(train_loader):\n",
        "    X, y = data[0].to(device), data[1].to(device)\n",
        "\n",
        "    with torch.no_grad():\n",
        "        y_pred = model(X)\n",
        "    _, predicted = torch.max(y_pred, 1)\n",
        "\n",
        "    y_pred_list.extend(predicted.tolist())\n",
        "    y_true_list.extend(y.tolist())"
      ]
    },
    {
      "cell_type": "code",
      "execution_count": 12,
      "metadata": {
        "colab": {
          "base_uri": "https://localhost:8080/"
        },
        "id": "pAY5DhvrsQ8k",
        "outputId": "0b87f90a-a4cd-4279-c281-13af76f300c4"
      },
      "outputs": [
        {
          "data": {
            "text/plain": [
              "(0.9815, 0.9814985996290059)"
            ]
          },
          "execution_count": 12,
          "metadata": {},
          "output_type": "execute_result"
        }
      ],
      "source": [
        "accuracy_score(y_true_list, y_pred_list), f1_score(y_true_list, y_pred_list, average='macro')"
      ]
    },
    {
      "cell_type": "code",
      "execution_count": 13,
      "metadata": {
        "id": "G1bsUqNJOj5P"
      },
      "outputs": [],
      "source": [
        "y_pred_list, y_true_list = [], []\n",
        "for i, data in enumerate(test_loader):\n",
        "    X, y = data[0].to(device), data[1].to(device)\n",
        "\n",
        "    with torch.no_grad():\n",
        "        y_pred = model(X)\n",
        "    _, predicted = torch.max(y_pred, 1)\n",
        "\n",
        "    y_pred_list.extend(predicted.tolist())\n",
        "    y_true_list.extend(y.tolist())"
      ]
    },
    {
      "cell_type": "code",
      "execution_count": 14,
      "metadata": {
        "colab": {
          "base_uri": "https://localhost:8080/"
        },
        "id": "HY6_YyqZOj5P",
        "outputId": "2fddad36-c160-4da2-8d3c-6581f183619c"
      },
      "outputs": [
        {
          "data": {
            "text/plain": [
              "(0.9312, 0.9311576592067186)"
            ]
          },
          "execution_count": 14,
          "metadata": {},
          "output_type": "execute_result"
        }
      ],
      "source": [
        "accuracy_score(y_true_list, y_pred_list), f1_score(y_true_list, y_pred_list, average='macro')"
      ]
    },
    {
      "cell_type": "code",
      "execution_count": 15,
      "metadata": {
        "colab": {
          "base_uri": "https://localhost:8080/",
          "height": 447
        },
        "id": "4DmEGjElOj5P",
        "outputId": "cbe7ec1f-e400-4adb-d1ee-78fbe2b6c09b"
      },
      "outputs": [
        {
          "data": {
            "text/plain": [
              "<Axes: >"
            ]
          },
          "execution_count": 15,
          "metadata": {},
          "output_type": "execute_result"
        },
        {
          "data": {
            "image/png": "[encoded data removed]",
            "text/plain": [
              "<Figure size 640x480 with 2 Axes>"
            ]
          },
          "metadata": {},
          "output_type": "display_data"
        }
      ],
      "source": [
        "sns.heatmap(confusion_matrix(y_true_list, y_pred_list), annot=True, fmt='.0f')"
      ]
    },
    {
      "cell_type": "code",
      "execution_count": 16,
      "metadata": {
        "id": "YELL0Q7yOj5P"
      },
      "outputs": [],
      "source": [
        "folder_path = './models'\n",
        "model_name = '01_torch_intro_task_3.pth'\n",
        "full_path = '/'.join((folder_path, model_name))\n",
        "\n",
        "if not os.path.exists(folder_path):\n",
        "    os.mkdir(folder_path)\n",
        "\n",
        "torch.save(model.state_dict(), full_path)\n",
        "# model.load_state_dict(torch.load(full_path))"
      ]
    }
  ],
  "metadata": {
    "accelerator": "GPU",
    "colab": {
      "gpuType": "T4",
      "provenance": []
    },
    "kernelspec": {
      "display_name": "Python 3",
      "name": "python3"
    },
    "language_info": {
      "codemirror_mode": {
        "name": "ipython",
        "version": 3
      },
      "file_extension": ".py",
      "mimetype": "text/x-python",
      "name": "python",
      "nbconvert_exporter": "python",
      "pygments_lexer": "ipython3",
      "version": "3.undefined.undefined"
    }
  },
  "nbformat": 4,
  "nbformat_minor": 0
}
